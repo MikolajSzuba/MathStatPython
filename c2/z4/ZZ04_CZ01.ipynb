{
 "cells": [
  {
   "cell_type": "markdown",
   "id": "c490b0f8",
   "metadata": {
    "deletable": false,
    "editable": false,
    "nbgrader": {
     "cell_type": "markdown",
     "checksum": "74aa63f2e4d352c067353490d74b5258",
     "grade": false,
     "grade_id": "cell-fcd2666579131b77",
     "locked": true,
     "schema_version": 3,
     "solution": false,
     "task": false
    },
    "tags": []
   },
   "source": [
    "# Analiza danych w języku Python - ćwiczenia laboratoryjne 2024/2025\n",
    "\n",
    "Ten notatnik zalicza się do grupy zestawów zadań, na podstawie których odbywa się zaliczenie ćwiczeń i podlega zwrotowi do oceny w ustalonym na zajęciach terminie.\n",
    "\n",
    "Uwagi i wytyczne ogólne dotyczące uzupełniania i oceny notatnika:\n",
    "- Podczas wykonywania zadań należy korzystać wyłącznie z pakietów zaimportowanych na początku notatnika oraz z pakietów wchodzących w skład standardowej biblioteki Pythona, które można zaimportować samodzielnie we wskazanej komórce notatnika. Wyjątek stanowi ostatni z projektów, gdzie po konsultacji z prowadzącym zajęcia możliwa jest większa swoboda w doborze pakietów.\n",
    "- Swoje rozwiązania należy wprowadzać wyłącznie w miejce następujących fragmentów kodu:<br/> `# YOUR CODE HERE`<br/> `raise NotImplementedError()`<br/> \n",
    "a odpowiedzi tekstowe w komórkach oznaczonych hasłem:<br/> \n",
    "`YOUR ANSWER HERE`<br/> \n",
    "Nie należy w żaden sposób modyfikować pozostałych fragmentów kodu oraz innych elementów notatnika, w szczególności dodawać lub usuwać komórek oraz zmieniać nazwy pliku.\n",
    "- Jeżeli zestaw zadań wymaga skorzystania z fragmentów kodu opracowanego w ramach wcześniejszych zestawów zadań należy je umieścić we wskazanej komórce notatnika.\n",
    "- Otrzymywane wyniki i odpowiedzi mają być rezultatem wykonania napisanego kodu, odpowiedzi uzupełniane manualnie nie podlegają ocenie.\n",
    "- Zawarte w notatniku automatyczne testy mają charakter poglądowy. Dotyczą one wybranych aspektów zadań i mają na celu wyłapać podstawowe błędy. Przejście przez kod wszystkich testów nie oznacza, że zadanie jest wykonane w całości poprawnie i zostanie ocenione na maksymalną liczbę punktów.\n",
    "- Zadania należy wykonać w taki sposób, aby podczas wykonywania kodu nie zostały wyświetlone żadne ostrzeżenia.\n",
    "- Zadania, które powodują wyświetlenie komunikatu o błędzie przerywającym wykonywanie kodu nie podlegają ocenie.\n",
    "\n",
    "Uwagi i wytyczne ogólne dotyczące wizualizacji wyników:\n",
    "- Wszystkie wykresy powinny być wykonane w jednolitym, przejrzystym i czytelnym stylu, posiadać odpowiednio dobrane proporcje i zakresy wartości osi.\n",
    "- Figury powinny mieć ustawione białe tło, tak, aby niezależnie od ustawień notatnika wszystkie elementy wykresów były dobrze widoczne (domyślnie tło jest przeźroczyste co może powodować problemy w notatnikach z ustawionym ciemnym tłem). Rozmiar poziomy figur nie powinien przekraczać 20 cali.\n",
    "- Wykresy oraz ich osie powinny mieć nadane tytuły. Jeżeli w obrębie figury znajduje się więcej niż jeden wykres to figura również powinna mieć nadany tytuł.\n",
    "\n",
    "Przed odesłaniem zestawu zadań do oceny proszę uzupełnić komórkę z danymi autorów rozwiązania (nazwa zespołu oraz imiona, nazwiska i numery indeksów członków zespołu) oraz upewnić się, że notatnik działa zgodnie z oczekiwaniami. W tym celu należy skorzystać z opcji **Restart Kernel and Run All Cells...** dostępnej na górnej belce notatnika pod symbolem $\\blacktriangleright\\blacktriangleright$."
   ]
  },
  {
   "cell_type": "markdown",
   "id": "a9634f33",
   "metadata": {},
   "source": [
    "Nazwa zespołu:\n",
    "Członkowie:"
   ]
  },
  {
   "cell_type": "markdown",
   "id": "d23361ea",
   "metadata": {
    "deletable": false,
    "editable": false,
    "nbgrader": {
     "cell_type": "markdown",
     "checksum": "eddc8826810e4a6f7bf68319da334bd9",
     "grade": false,
     "grade_id": "cell-109006d425e5cf83",
     "locked": true,
     "schema_version": 3,
     "solution": false,
     "task": false
    },
    "tags": []
   },
   "source": [
    "---"
   ]
  },
  {
   "cell_type": "markdown",
   "id": "fae38284-3c15-4c11-b695-aab79c6930fa",
   "metadata": {
    "deletable": false,
    "editable": false,
    "nbgrader": {
     "cell_type": "markdown",
     "checksum": "1c9f2a8485bcacd775f68c8eadfe5a87",
     "grade": false,
     "grade_id": "cell-15ee0210ef38073e",
     "locked": true,
     "schema_version": 3,
     "solution": false,
     "task": false
    }
   },
   "source": [
    "## Zestaw zadań 4: Wstęp do analizy danych przestrzennych (Notatnik 1/2)"
   ]
  },
  {
   "cell_type": "code",
   "execution_count": 2,
   "id": "a808010a-7d66-413e-87cd-618bb7e1c9fc",
   "metadata": {
    "ExecuteTime": {
     "end_time": "2025-05-23T08:38:17.413072900Z",
     "start_time": "2025-05-23T08:38:16.749602800Z"
    },
    "deletable": false,
    "editable": false,
    "nbgrader": {
     "cell_type": "code",
     "checksum": "79b9b38864d76837aae612cc01cd2d28",
     "grade": false,
     "grade_id": "cell-b08a9e0cd988f342",
     "locked": true,
     "schema_version": 3,
     "solution": false,
     "task": false
    }
   },
   "outputs": [],
   "source": [
    "import numpy as np\n",
    "import pandas as pd\n",
    "import scipy as sp\n",
    "import matplotlib as mpl\n",
    "import matplotlib.pyplot as plt\n",
    "import seaborn as sns\n",
    "import geopandas as gpd\n",
    "import os"
   ]
  },
  {
   "cell_type": "code",
   "execution_count": null,
   "id": "994b9b85-c916-4dd9-98ae-36daeb1ced71",
   "metadata": {},
   "outputs": [],
   "source": [
    "# Miejsce do importu pakietów wchodzących w skład standardowej biblioteki Pythona oraz ustawienie opcji wykorzystywanych pakietów"
   ]
  },
  {
   "cell_type": "markdown",
   "id": "cd32b494-f596-44a2-85cb-6560add342f2",
   "metadata": {
    "deletable": false,
    "editable": false,
    "nbgrader": {
     "cell_type": "markdown",
     "checksum": "d2e5b91981d699a5f97903b132694119",
     "grade": false,
     "grade_id": "cell-ea2ddb280da60cbf",
     "locked": true,
     "schema_version": 3,
     "solution": false,
     "task": false
    }
   },
   "source": [
    "### Zadanie 1: Import i przygotowanie danych (9 pkt)\n",
    "\n",
    "Wykorzystując funkcję `geopandas.read_file()` zaimportuj do notatnika dane z załączonych do niego plików i przygotuj na ich podstawie cztery tablice zawierające wybrane dane dotyczące dwóch rzek - Wisły i Odry, miast, powiatów oraz województw.\n",
    "\n",
    "Wyświetl przygotowane tablice i zapisz je do pliu `data.gpkg` na warstwy o nazwach odpowiadające nazwom zmiennych.\n",
    "\n",
    "Uwagi do wykonania zadania:\n",
    " - Pliki zawierają więcej danych niż wynikowe tablice, w których nie powinny znaleźć się zbędne dane.\n",
    " - Poprawny import polskich nazw może wymagać ustawienia odpowiedniej wartości parametru `encoding` (w zależności od pliku utf-8 lub 1250) podczas wywoływania funkcji `geopandas.read_file()`.\n",
    " - Dane są zapisane z wykorzystaniem różnych odwzorowań kartograficznych. Przed rozpoczęciem analizy należy je ze sobą uzgodnić. Korzystając z własności obiektu GeoDataFrame `geopandas.GeoDataFrame.crs` sprawdź odwzorowanie kartograficzne, w którym zapisane są dane. Jeżeli odwzorowanie jest inne niż epsg:2180 dokonaj jego konwersji z wykorzystaniem funkcji `geopandas.GeoDataFrame.to_crs()`.\n",
    "\n",
    "#### a)  Rzeki\n",
    "\n",
    "Tablica `rivers` zawierająca wyłącznie następujące elementy:</br>\n",
    "\n",
    "> Indeks:</br>\n",
    "> Domyślny indeksowanie tablicy\n",
    "\n",
    "> Kolumny: Nazwa, geometry</br>\n",
    "> Kolumny zawierające nazwę oraz geometrię obiektów\n",
    "\n",
    "W tablicy zawrzyj wyłącznie informacje dotyczące dwóch rzek - Wisły i Odry."
   ]
  },
  {
   "cell_type": "code",
   "execution_count": null,
   "id": "4fd9bfc1-6609-47b5-90e4-66fcbce87c87",
   "metadata": {
    "deletable": false,
    "nbgrader": {
     "cell_type": "code",
     "checksum": "52d0de110dcc40ed501a01531c58bb5c",
     "grade": false,
     "grade_id": "cell-a3f09fcd0c1b8b0e",
     "locked": false,
     "schema_version": 3,
     "solution": true,
     "task": false
    }
   },
   "outputs": [],
   "source": [
    "df=geopadas.read_file('"
   ]
  },
  {
   "cell_type": "code",
   "execution_count": null,
   "id": "b7bfce14-0a51-4eef-92e2-b174944a46ef",
   "metadata": {
    "deletable": false,
    "editable": false,
    "nbgrader": {
     "cell_type": "code",
     "checksum": "5e58a72a2bf629f81cf65adb7541ee25",
     "grade": true,
     "grade_id": "cell-fa72e0d0e0547422",
     "locked": true,
     "points": 2,
     "schema_version": 3,
     "solution": false,
     "task": false
    }
   },
   "outputs": [],
   "source": [
    "# Komórka testowa\n",
    "assert type(rivers) == gpd.geodataframe.GeoDataFrame\n",
    "assert rivers.shape == (2, 2)\n",
    "assert list(rivers.columns) == ['Nazwa', 'geometry']\n",
    "assert rivers.crs == \"epsg:2180\""
   ]
  },
  {
   "cell_type": "markdown",
   "id": "ba1d4358-5c31-44cb-8c35-7dcad1cd2479",
   "metadata": {
    "deletable": false,
    "editable": false,
    "nbgrader": {
     "cell_type": "markdown",
     "checksum": "dac1f9bd539c09061b24cb1eaa04c8ce",
     "grade": false,
     "grade_id": "cell-87718d6fc1a990ec",
     "locked": true,
     "schema_version": 3,
     "solution": false,
     "task": false
    }
   },
   "source": [
    "#### b) Miasta\n",
    "\n",
    "Tablica `cities` zawierająca wyłącznie następujące elementy:</br>\n",
    "\n",
    "> Indeks:</br>\n",
    "> Domyślny indeksowanie tablicy\n",
    "\n",
    "> Kolumny: Nazwa, geometry</br>\n",
    "> Kolumny zawierające nazwę oraz geometrię obiektów\n",
    "\n",
    "W tablicy zawrzyj wyłącznie informacje dotyczące miast jako całości, pomiń wsie, dzielnice itp."
   ]
  },
  {
   "cell_type": "code",
   "execution_count": null,
   "id": "982a7dae-e2cc-4f5d-8c84-0c3fb62f5a5e",
   "metadata": {
    "deletable": false,
    "nbgrader": {
     "cell_type": "code",
     "checksum": "97f58853e47e85fb0a591c25e58d74e7",
     "grade": false,
     "grade_id": "cell-6c1e035b246fbf9f",
     "locked": false,
     "schema_version": 3,
     "solution": true,
     "task": false
    }
   },
   "outputs": [],
   "source": [
    "# Miasta\n",
    "# YOUR CODE HERE\n",
    "raise NotImplementedError()"
   ]
  },
  {
   "cell_type": "code",
   "execution_count": null,
   "id": "408f1a0d-835d-4c7b-9e51-efe1be51860c",
   "metadata": {
    "deletable": false,
    "editable": false,
    "nbgrader": {
     "cell_type": "code",
     "checksum": "cd62325cd3c149388a71ed6d4fe8fa73",
     "grade": true,
     "grade_id": "cell-3a5d54392278957c",
     "locked": true,
     "points": 2,
     "schema_version": 3,
     "solution": false,
     "task": false
    }
   },
   "outputs": [],
   "source": [
    "# Komórka testowa\n",
    "assert type(cities) == gpd.geodataframe.GeoDataFrame\n",
    "assert cities.shape == (964, 2)\n",
    "assert list(cities.columns) == ['Nazwa', 'geometry']\n",
    "assert cities.crs == \"epsg:2180\""
   ]
  },
  {
   "cell_type": "markdown",
   "id": "e71d95da-0f14-4784-8bea-8bc51edc7e2a",
   "metadata": {
    "deletable": false,
    "editable": false,
    "nbgrader": {
     "cell_type": "markdown",
     "checksum": "1d727d0c6c9c4a511abc446363b97d46",
     "grade": false,
     "grade_id": "cell-d300c06e5b46e6f4",
     "locked": true,
     "schema_version": 3,
     "solution": false,
     "task": false
    }
   },
   "source": [
    "#### c) Powiaty\n",
    "\n",
    "Tablica `districts` zawierająca wyłącznie następujące elementy:</br>\n",
    "\n",
    "> Indeks:</br>\n",
    "> Domyślny indeksowanie tablicy\n",
    "\n",
    "> Kolumny: Nazwa, geometry</br>\n",
    "> Kolumny zawierające nazwę oraz geometrię obiektów"
   ]
  },
  {
   "cell_type": "code",
   "execution_count": null,
   "id": "9db1096c-921b-4215-b4fe-20cd50b68161",
   "metadata": {
    "deletable": false,
    "nbgrader": {
     "cell_type": "code",
     "checksum": "d16be254d1487aad88bcead56576ef3a",
     "grade": false,
     "grade_id": "cell-bb817f505b502999",
     "locked": false,
     "schema_version": 3,
     "solution": true,
     "task": false
    }
   },
   "outputs": [],
   "source": [
    "# Powiaty\n",
    "# YOUR CODE HERE\n",
    "raise NotImplementedError()"
   ]
  },
  {
   "cell_type": "code",
   "execution_count": null,
   "id": "94622c3a-9b20-4c4f-9bc8-072098520a4b",
   "metadata": {
    "deletable": false,
    "editable": false,
    "nbgrader": {
     "cell_type": "code",
     "checksum": "9d03de7f61a6fe8a7b881a996cb4ea92",
     "grade": true,
     "grade_id": "cell-064888548be59294",
     "locked": true,
     "points": 1,
     "schema_version": 3,
     "solution": false,
     "task": false
    }
   },
   "outputs": [],
   "source": [
    "# Komórka testowa\n",
    "assert type(districts) == gpd.geodataframe.GeoDataFrame\n",
    "assert districts.shape == (380, 2)\n",
    "assert list(districts.columns) == ['Nazwa', 'geometry']\n",
    "assert districts.crs == \"epsg:2180\""
   ]
  },
  {
   "cell_type": "markdown",
   "id": "8bea7005-9ac1-45a9-be6a-d61aea51873f",
   "metadata": {
    "deletable": false,
    "editable": false,
    "nbgrader": {
     "cell_type": "markdown",
     "checksum": "88e419da7cba0f760c70394cc8e6701f",
     "grade": false,
     "grade_id": "cell-54b13b7257c055cd",
     "locked": true,
     "schema_version": 3,
     "solution": false,
     "task": false
    }
   },
   "source": [
    "#### d) Województwa\n",
    "\n",
    "Tablica `voivodeships` zawierająca wyłącznie następujące elementy:</br>\n",
    "\n",
    "> Indeks:</br>\n",
    "> Domyślny indeksowanie tablicy\n",
    "\n",
    "> Kolumny: komplet kolumn z pliku `voivodeships_dane.csv` oraz przygotowana osobno kolumna geometry</br>\n",
    "> Kolumny zawierające nazwę, dodatkowe inforamacje o obiektach oraz ich geometrię\n",
    "\n",
    "Plik `voivodeships_dane.csv` nie zawiera geometrii obiektów. W związku z tym należy go wczytać z wykorzystaniem funkcji `pandas.read_csv()`, a geometrię obiektów przygotować osobno, korzystając z funkcji `geopandas.GeoDataFrame.dissolve()`, w oparciu o dane zawarte w pliku `Powiaty.zip`."
   ]
  },
  {
   "cell_type": "code",
   "execution_count": null,
   "id": "2ed72bf7-3875-4a19-91ef-109c5136f4ca",
   "metadata": {
    "deletable": false,
    "nbgrader": {
     "cell_type": "code",
     "checksum": "5009206589e8b6031625ab7964e35e08",
     "grade": false,
     "grade_id": "cell-2cd2490da8292fc9",
     "locked": false,
     "schema_version": 3,
     "solution": true,
     "task": false
    }
   },
   "outputs": [],
   "source": [
    "# Województwa\n",
    "# YOUR CODE HERE\n",
    "raise NotImplementedError()"
   ]
  },
  {
   "cell_type": "code",
   "execution_count": null,
   "id": "33af8b95-ed32-47ff-9459-0e7513649989",
   "metadata": {
    "deletable": false,
    "editable": false,
    "nbgrader": {
     "cell_type": "code",
     "checksum": "b2275852d54462131b8d1516a4c08aab",
     "grade": true,
     "grade_id": "cell-c3ad9ba3706dcfa9",
     "locked": true,
     "points": 3,
     "schema_version": 3,
     "solution": false,
     "task": false
    }
   },
   "outputs": [],
   "source": [
    "# Komórka testowa\n",
    "assert type(voivodeships) == gpd.geodataframe.GeoDataFrame\n",
    "assert voivodeships.shape == (16, 13)\n",
    "assert set(list(voivodeships.columns)) == set(['Nazwa',\n",
    "                                             'geometry',\n",
    "                                             'Powierzchnia ogółem [ha]',\n",
    "                                             'Produkcja energii elektrycznej [GWh]',\n",
    "                                             'Stosunek produkcji energii elektrycznej do zużycia energii elektrycznej [%]',\n",
    "                                             'Udział energii odnawialnej w produkcji energii elektrycznej [%]',\n",
    "                                             'Udział powierzchni gruntów pod wodami w powierzchni ogółem [%]',\n",
    "                                             'Udział powierzchni nieużytków w powierzchni ogółem [%]',\n",
    "                                             'Udział powierzchni terenów mieszkaniowych w powierzchni ogółem [%]',\n",
    "                                             'Udział powierzchni terenów przemysłowych w powierzchni ogółem [%]',\n",
    "                                             'Udział powierzchni terenów rekreacji i wypoczynku w powierzchni ogółem [%]',\n",
    "                                             'Udział powierzchni użytków rolnych w powierzchni ogółem [%]',\n",
    "                                             'Zużycie energii elektrycznej [GWh]'])\n",
    "assert voivodeships.crs == \"epsg:2180\""
   ]
  },
  {
   "cell_type": "markdown",
   "id": "3f60dd85-8411-4c77-9046-ecae2bc95559",
   "metadata": {
    "deletable": false,
    "editable": false,
    "nbgrader": {
     "cell_type": "markdown",
     "checksum": "14c90b6b909c92c03fce3f7a04de00bd",
     "grade": false,
     "grade_id": "cell-19e609ff7cb4b221",
     "locked": true,
     "schema_version": 3,
     "solution": false,
     "task": false
    }
   },
   "source": [
    "#### e) Zapisanie danych\n",
    "\n",
    "Korzystając z funkcji `geopandas.GeoDataFrame.to_file()` zapisz dane z przygotowanych tablic do pliku `data.gpkg` na osobne warstwy o nazwach identycznych z nazwami zapisywanych zmiennych.\n",
    "\n",
    "Znajdujący się w komórce kod usuwa już istniejący plik `data.gpkg`. Zapobiega to nadpisywaniu danych do już istniejącego pliku w kolejnych wykonaniach notatnika."
   ]
  },
  {
   "cell_type": "code",
   "execution_count": null,
   "id": "f279d2b3-feb9-48fd-8b4f-6afa32b3cc8a",
   "metadata": {
    "deletable": false,
    "nbgrader": {
     "cell_type": "code",
     "checksum": "2214b5d21d9efea3bd163a97d8e2581a",
     "grade": false,
     "grade_id": "cell-d6d61e494f405909",
     "locked": false,
     "schema_version": 3,
     "solution": true,
     "task": false
    }
   },
   "outputs": [],
   "source": [
    "# Zapisanie danych do pliku\n",
    "if os.path.exists(\"data.gpkg\"):\n",
    "    os.remove(\"data.gpkg\")\n",
    "# YOUR CODE HERE\n",
    "raise NotImplementedError()"
   ]
  },
  {
   "cell_type": "code",
   "execution_count": null,
   "id": "feb7fb5f-cc90-4b4f-9ed1-cbe3d87d44a8",
   "metadata": {
    "deletable": false,
    "editable": false,
    "nbgrader": {
     "cell_type": "code",
     "checksum": "40959507c4e2fc31bac343673a6c43cb",
     "grade": true,
     "grade_id": "cell-ed5493dd66a0d5ce",
     "locked": true,
     "points": 1,
     "schema_version": 3,
     "solution": false,
     "task": false
    }
   },
   "outputs": [],
   "source": [
    "# Komórka testowa\n",
    "test_results = gpd.list_layers(\"data.gpkg\")\n",
    "assert test_results.shape == (4, 2)\n",
    "assert np.all(set(test_results['name'].values) == set(['rivers', 'cities', 'districts', 'voivodeships']))\n",
    "assert np.all(set(test_results['geometry_type'].values) == set(['MultiLineString', 'Point', 'MultiPolygon', 'MultiPolygon']))"
   ]
  },
  {
   "cell_type": "markdown",
   "id": "9427c9f8-df65-496a-a910-1f0d7b1d7a55",
   "metadata": {
    "deletable": false,
    "editable": false,
    "nbgrader": {
     "cell_type": "markdown",
     "checksum": "f87c41eefc4a2a2e4cf9fb9f235b0106",
     "grade": false,
     "grade_id": "cell-196526ed2288016e",
     "locked": true,
     "schema_version": 3,
     "solution": false,
     "task": false
    }
   },
   "source": [
    "### Zadanie 2: Wizualizacja danych wejściowych (2 pkt)\n",
    "\n",
    "Korzystając z funkcji pakietu matplotlib oraz funkcji `geopandas.GeoDataFrame.plot()` zwizualizuj na pojedynczej mapie komplet przygotowanych danych (geometrie obiektów). Przygotuj wykres tak, aby:\n",
    " - powiaty posiadały wypełnienie w wybranym kolorze oraz granice oznaczone cienką linią w bardziej intensywnej wersji koloru ich wypełnienia,\n",
    " - granice województw były oznaczne grubszą linią w bardziej intensywnej wersji koloru granic powiatów,\n",
    " - rzeki i miasta były oznaczone kolorami wyróżniającymi się na tle oznaczeń powiatów i województw.\n",
    "\n",
    "Przygotuj figurę zgodnie z wytycznymi z nagłówka notatnika. Ustaw parametry wykresu oraz wizualizowanych obiektów (wielkość figury, kolory, grubość linii, wielkość punktów itp.) tak aby wygenerowana mapa była przejrzysta i czytelna."
   ]
  },
  {
   "cell_type": "code",
   "execution_count": null,
   "id": "038426e6-c6ad-4ec3-8f93-39fddeda413f",
   "metadata": {
    "deletable": false,
    "nbgrader": {
     "cell_type": "code",
     "checksum": "6f75dd0826aa1ff353549c7e1af8ba9c",
     "grade": true,
     "grade_id": "cell-7cf2575ea3586fc8",
     "locked": false,
     "points": 2,
     "schema_version": 3,
     "solution": true,
     "task": false
    }
   },
   "outputs": [],
   "source": [
    "# YOUR CODE HERE\n",
    "raise NotImplementedError()"
   ]
  },
  {
   "cell_type": "markdown",
   "id": "61fa51a6-4d2f-4739-8ebc-bf27fe127d53",
   "metadata": {
    "deletable": false,
    "editable": false,
    "nbgrader": {
     "cell_type": "markdown",
     "checksum": "a7a877448b52b4b947d2a80d25f75a36",
     "grade": false,
     "grade_id": "cell-6c2c6349e2037fc6",
     "locked": true,
     "schema_version": 3,
     "solution": false,
     "task": false
    },
    "tags": []
   },
   "source": [
    "### Zadanie 3: Mierzenie długości, pola powierzchni i odległości (7 pkt)\n",
    "\n",
    "#### a) Długość Wisły\n",
    "Korzystając z własności `geopandas.GeoSeries.length` zmierz długość Wisły w metrach oraz:\n",
    " - zapisz wynik do zmiennej `length`,\n",
    " - korzystając z funkcji `print()` wyświetl odpowiedź (pełnym zdaniem) na pytanie o długość Wisły podając odpowiedź w kilometrach z dokładnością do 3 miejsc po przecinku."
   ]
  },
  {
   "cell_type": "code",
   "execution_count": null,
   "id": "feea3bff-2bda-41ca-9aed-eecfd00961d9",
   "metadata": {
    "deletable": false,
    "nbgrader": {
     "cell_type": "code",
     "checksum": "1b103303fa2f3ff60ab4d27182b02a3a",
     "grade": false,
     "grade_id": "cell-15ff549b14ca0466",
     "locked": false,
     "schema_version": 3,
     "solution": true,
     "task": false
    },
    "tags": []
   },
   "outputs": [],
   "source": [
    "# YOUR CODE HERE\n",
    "raise NotImplementedError()"
   ]
  },
  {
   "cell_type": "code",
   "execution_count": null,
   "id": "8ed96b4a-8e9f-4381-827b-2c4aa42d3921",
   "metadata": {
    "deletable": false,
    "editable": false,
    "nbgrader": {
     "cell_type": "code",
     "checksum": "1b32c565474141f9bcf8b26ad690810e",
     "grade": true,
     "grade_id": "cell-24758c9f3da5ccde",
     "locked": true,
     "points": 1,
     "schema_version": 3,
     "solution": false,
     "task": false
    },
    "tags": []
   },
   "outputs": [],
   "source": [
    "# Komórka testowa\n",
    "assert np.isclose(length, 1019757.7991167122)"
   ]
  },
  {
   "cell_type": "markdown",
   "id": "5c4f4529-fa48-425b-8a25-1d62e43bda6b",
   "metadata": {
    "deletable": false,
    "editable": false,
    "nbgrader": {
     "cell_type": "markdown",
     "checksum": "c5a9dd683a5ef73c76bf34bb77990fe0",
     "grade": false,
     "grade_id": "cell-b957c83a1c2b52aa",
     "locked": true,
     "schema_version": 3,
     "solution": false,
     "task": false
    },
    "tags": []
   },
   "source": [
    "#### b) Pola powierzchni województw\n",
    "Korzystając z własności `geopandas.GeoSeries.area` zmierz powierzchnię województw w metrach kwadratowych oraz:\n",
    " - zapisz wyniki do tablicy `voivodeships` w kolumnie o nazwie \"Pole\", \n",
    " - oblicz pole powierzchni Polski w metrach kwadartowych i zapisz wynik do zmiennej `area`,\n",
    " - korzystając z funkcji `print()` wyświetl odpowiedź na pytanie (pełnym zdaniem) o powierzchnię Polski podając odpowiedź w kilometrach kwadratowych z dokładnością do 3 miejsc po przecinku,\n",
    " - przygotuj wizualiację, na której kolor przypisany województwom jest powiązany z ich powierzchnią.\n",
    "\n",
    "Wizualizacja powinna zawierać:\n",
    "- województwa, wypełnione kolorem powiązanym z ich powierzchnią (ciągła skala kolorów),\n",
    "\n",
    "Przygotuj figurę zgodnie z wytycznymi z nagłówka notatnika. Ustaw parametry wykresu oraz wizualizowanych obiektów (wielkość figury, kolory, grubość linii, wielkość punktów itp.) tak aby wygenerowana mapa była przejrzysta i czytelna."
   ]
  },
  {
   "cell_type": "code",
   "execution_count": null,
   "id": "ed0454ef-57f9-42e3-8236-f19a1631c787",
   "metadata": {
    "deletable": false,
    "nbgrader": {
     "cell_type": "code",
     "checksum": "96efc8f129676b14eb9161c4873cf184",
     "grade": false,
     "grade_id": "cell-eb301c3344f17b1e",
     "locked": false,
     "schema_version": 3,
     "solution": true,
     "task": false
    },
    "tags": []
   },
   "outputs": [],
   "source": [
    "# Obliczenia\n",
    "# YOUR CODE HERE\n",
    "raise NotImplementedError()"
   ]
  },
  {
   "cell_type": "code",
   "execution_count": null,
   "id": "5f078799-1c41-45e2-9b30-2cf3dc455c58",
   "metadata": {
    "deletable": false,
    "editable": false,
    "nbgrader": {
     "cell_type": "code",
     "checksum": "5c3fd3b4e4caa5cda6fa395a8b16ec30",
     "grade": true,
     "grade_id": "cell-54e8fb04359f397e",
     "locked": true,
     "points": 2,
     "schema_version": 3,
     "solution": false,
     "task": false
    },
    "tags": []
   },
   "outputs": [],
   "source": [
    "# Komórka testowa\n",
    "assert np.all(np.isclose(np.sort(voivodeships[\"Pole\"].values), np.sort(np.array([1.99361725e+10, 1.79475269e+10, 2.51340028e+10, 1.39898166e+10,\n",
    "                                                               3.55292977e+10, 1.51660383e+10, 9.39998646e+09, 1.78437052e+10,\n",
    "                                                               2.01931654e+10, 1.83069651e+10, 2.41505782e+10, 2.97972921e+10,\n",
    "                                                               2.29033672e+10, 1.81944352e+10, 1.23170381e+10, 1.16972569e+10]))))\n",
    "assert np.isclose(voivodeships[voivodeships[\"Nazwa\"]==\"małopolskie\"][\"Pole\"].values[0], 15166038294.192154)\n",
    "assert np.isclose(voivodeships[voivodeships[\"Nazwa\"]==\"pomorskie\"][\"Pole\"].values[0], 18306965109.079857)\n",
    "assert np.isclose(area, 312506644577.3843)"
   ]
  },
  {
   "cell_type": "code",
   "execution_count": null,
   "id": "97540feb-d7bd-4326-9297-14674e51fac9",
   "metadata": {
    "deletable": false,
    "nbgrader": {
     "cell_type": "code",
     "checksum": "cef754048d8886b4afe392bf5283233b",
     "grade": true,
     "grade_id": "cell-ab1428f12655827b",
     "locked": false,
     "points": 1,
     "schema_version": 3,
     "solution": true,
     "task": false
    },
    "tags": []
   },
   "outputs": [],
   "source": [
    "# Wizualizacja\n",
    "# YOUR CODE HERE\n",
    "raise NotImplementedError()"
   ]
  },
  {
   "cell_type": "markdown",
   "id": "03dca9e6-9b29-4efd-b141-f8ff42472b95",
   "metadata": {
    "deletable": false,
    "editable": false,
    "nbgrader": {
     "cell_type": "markdown",
     "checksum": "6d9dc4af3d0bd8ab91111e07afd9e7bd",
     "grade": false,
     "grade_id": "cell-9cf1e2e73c4d573f",
     "locked": true,
     "schema_version": 3,
     "solution": false,
     "task": false
    },
    "tags": []
   },
   "source": [
    "#### c) Odległość miast od Krakowa\n",
    "Korzystając z funkcji `geopandas.GeoSeries.distance()` zmierz odległość poszczególnych miast od Krakowa w metrach oraz:\n",
    " - zapisz wyniki do tablicy `cities` w kolumnie o nazwie \"Odległość od Krakowa\", \n",
    " - oblicz w jakiej odległości od Krakowa w kilometrach leży Poznań i zapisz wynik do zmiennej `distance`,\n",
    " - korzystając z funkcji `print()` wyświetl odpowiedź na pytanie (pełnym zdaniem) w jakiej odległości wyrażonej w kilometrach od Krakowa leży Poznań,\n",
    " - przygotuj wizualiację, na której kolor przypisany miastom jest powiązany z ich odległością od Krakowa. \n",
    "\n",
    "Wizualizacja powinna zawierać:\n",
    "- kontury województw, bez wypełnienia,\n",
    "- lokalicaje miast, których kolor jest powiązany z ich odległością od Krakowa (ciągła skala kolorów).\n",
    "\n",
    "Przygotuj figurę zgodnie z wytycznymi z nagłówka notatnika. Ustaw parametry wykresu oraz wizualizowanych obiektów (wielkość figury, kolory, grubość linii, wielkość punktów itp.) tak aby wygenerowana mapa była przejrzysta i czytelna."
   ]
  },
  {
   "cell_type": "code",
   "execution_count": null,
   "id": "cb302647-7f6d-4be8-a036-ca91d5e71d73",
   "metadata": {
    "deletable": false,
    "nbgrader": {
     "cell_type": "code",
     "checksum": "90712b5aef7ca93ee56c6d6b7abdeaca",
     "grade": false,
     "grade_id": "cell-ce6d9808f4193a3c",
     "locked": false,
     "schema_version": 3,
     "solution": true,
     "task": false
    },
    "tags": []
   },
   "outputs": [],
   "source": [
    "# Obliczenia\n",
    "# YOUR CODE HERE\n",
    "raise NotImplementedError()"
   ]
  },
  {
   "cell_type": "code",
   "execution_count": null,
   "id": "315fa730-1ce4-4c56-9a5d-26f020397684",
   "metadata": {
    "deletable": false,
    "editable": false,
    "nbgrader": {
     "cell_type": "code",
     "checksum": "7eda446201d45259d9bba7a5351ad221",
     "grade": true,
     "grade_id": "cell-ea3373eed57cd3e3",
     "locked": true,
     "points": 2,
     "schema_version": 3,
     "solution": false,
     "task": false
    },
    "tags": []
   },
   "outputs": [],
   "source": [
    "# Komórka testowa\n",
    "assert np.isclose(cities[\"Odległość od Krakowa\"].min(), 0.0)\n",
    "assert np.isclose(cities[\"Odległość od Krakowa\"].max(), 579020.726082644)\n",
    "assert np.isclose(cities[\"Odległość od Krakowa\"].mean(), 271127.08178774477)\n",
    "assert np.isclose(distance, 334.60495145299524)"
   ]
  },
  {
   "cell_type": "code",
   "execution_count": null,
   "id": "f9d77011-833e-4157-b264-5709ba339ce3",
   "metadata": {
    "deletable": false,
    "nbgrader": {
     "cell_type": "code",
     "checksum": "f030b4e79e5a0eb791206321861a8c7a",
     "grade": true,
     "grade_id": "cell-8d841cc379d33cb6",
     "locked": false,
     "points": 1,
     "schema_version": 3,
     "solution": true,
     "task": false
    },
    "tags": []
   },
   "outputs": [],
   "source": [
    "# Wizualizacja\n",
    "# YOUR CODE HERE\n",
    "raise NotImplementedError()"
   ]
  }
 ],
 "metadata": {
  "kernelspec": {
   "display_name": "Python 3",
   "language": "python",
   "name": "python3"
  },
  "language_info": {
   "codemirror_mode": {
    "name": "ipython",
    "version": 3
   },
   "file_extension": ".py",
   "mimetype": "text/x-python",
   "name": "python",
   "nbconvert_exporter": "python",
   "pygments_lexer": "ipython3",
   "version": "3.13.3"
  }
 },
 "nbformat": 4,
 "nbformat_minor": 5
}
