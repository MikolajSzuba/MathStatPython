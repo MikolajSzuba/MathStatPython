{
 "cells": [
  {
   "cell_type": "markdown",
   "id": "4118fc61",
   "metadata": {
    "deletable": false,
    "editable": false,
    "nbgrader": {
     "cell_type": "markdown",
     "checksum": "74aa63f2e4d352c067353490d74b5258",
     "grade": false,
     "grade_id": "cell-fcd2666579131b77",
     "locked": true,
     "schema_version": 3,
     "solution": false,
     "task": false
    },
    "tags": []
   },
   "source": [
    "# Analiza danych w języku Python - ćwiczenia laboratoryjne 2024/2025\n",
    "\n",
    "Ten notatnik zalicza się do grupy zestawów zadań, na podstawie których odbywa się zaliczenie ćwiczeń i podlega zwrotowi do oceny w ustalonym na zajęciach terminie.\n",
    "\n",
    "Uwagi i wytyczne ogólne dotyczące uzupełniania i oceny notatnika:\n",
    "- Podczas wykonywania zadań należy korzystać wyłącznie z pakietów zaimportowanych na początku notatnika oraz z pakietów wchodzących w skład standardowej biblioteki Pythona, które można zaimportować samodzielnie we wskazanej komórce notatnika. Wyjątek stanowi ostatni z projektów, gdzie po konsultacji z prowadzącym zajęcia możliwa jest większa swoboda w doborze pakietów.\n",
    "- Swoje rozwiązania należy wprowadzać wyłącznie w miejce następujących fragmentów kodu:<br/> `# YOUR CODE HERE`<br/> `raise NotImplementedError()`<br/> \n",
    "a odpowiedzi tekstowe w komórkach oznaczonych hasłem:<br/> \n",
    "`YOUR ANSWER HERE`<br/> \n",
    "Nie należy w żaden sposób modyfikować pozostałych fragmentów kodu oraz innych elementów notatnika, w szczególności dodawać lub usuwać komórek oraz zmieniać nazwy pliku.\n",
    "- Jeżeli zestaw zadań wymaga skorzystania z fragmentów kodu opracowanego w ramach wcześniejszych zestawów zadań należy je umieścić we wskazanej komórce notatnika.\n",
    "- Otrzymywane wyniki i odpowiedzi mają być rezultatem wykonania napisanego kodu, odpowiedzi uzupełniane manualnie nie podlegają ocenie.\n",
    "- Zawarte w notatniku automatyczne testy mają charakter poglądowy. Dotyczą one wybranych aspektów zadań i mają na celu wyłapać podstawowe błędy. Przejście przez kod wszystkich testów nie oznacza, że zadanie jest wykonane w całości poprawnie i zostanie ocenione na maksymalną liczbę punktów.\n",
    "- Zadania należy wykonać w taki sposób, aby podczas wykonywania kodu nie zostały wyświetlone żadne ostrzeżenia.\n",
    "- Zadania, które powodują wyświetlenie komunikatu o błędzie przerywającym wykonywanie kodu nie podlegają ocenie.\n",
    "\n",
    "Uwagi i wytyczne ogólne dotyczące wizualizacji wyników:\n",
    "- Wszystkie wykresy powinny być wykonane w jednolitym, przejrzystym i czytelnym stylu, posiadać odpowiednio dobrane proporcje i zakresy wartości osi.\n",
    "- Figury powinny mieć ustawione białe tło, tak, aby niezależnie od ustawień notatnika wszystkie elementy wykresów były dobrze widoczne (domyślnie tło jest przeźroczyste co może powodować problemy w notatnikach z ustawionym ciemnym tłem). Rozmiar poziomy figur nie powinien przekraczać 20 cali.\n",
    "- Wykresy oraz ich osie powinny mieć nadane tytuły. Jeżeli w obrębie figury znajduje się więcej niż jeden wykres to figura również powinna mieć nadany tytuł.\n",
    "\n",
    "Przed odesłaniem zestawu zadań do oceny proszę uzupełnić komórkę z danymi autorów rozwiązania (nazwa zespołu oraz imiona, nazwiska i numery indeksów członków zespołu) oraz upewnić się, że notatnik działa zgodnie z oczekiwaniami. W tym celu należy skorzystać z opcji **Restart Kernel and Run All Cells...** dostępnej na górnej belce notatnika pod symbolem $\\blacktriangleright\\blacktriangleright$."
   ]
  },
  {
   "cell_type": "markdown",
   "id": "2723def8",
   "metadata": {},
   "source": [
    "Nazwa zespołu:\n",
    "Członkowie:"
   ]
  },
  {
   "cell_type": "markdown",
   "id": "7aa0a5f1",
   "metadata": {
    "deletable": false,
    "editable": false,
    "nbgrader": {
     "cell_type": "markdown",
     "checksum": "eddc8826810e4a6f7bf68319da334bd9",
     "grade": false,
     "grade_id": "cell-109006d425e5cf83",
     "locked": true,
     "schema_version": 3,
     "solution": false,
     "task": false
    },
    "tags": []
   },
   "source": [
    "---"
   ]
  },
  {
   "cell_type": "markdown",
   "id": "209fdbb5-1a45-49cf-b99f-aba6b600b72d",
   "metadata": {
    "deletable": false,
    "editable": false,
    "nbgrader": {
     "cell_type": "markdown",
     "checksum": "a261916bf1861ea2cbecbb297724a807",
     "grade": false,
     "grade_id": "cell-58bcab1d641cc36a",
     "locked": true,
     "schema_version": 3,
     "solution": false,
     "task": false
    }
   },
   "source": [
    "## Zestaw zadań 4: Wstęp do analizy danych przestrzennych (Notatnik 2/2)"
   ]
  },
  {
   "cell_type": "code",
   "execution_count": null,
   "id": "41c7fcd5-4e2b-496d-8249-e2a51d5b5b7d",
   "metadata": {
    "deletable": false,
    "editable": false,
    "nbgrader": {
     "cell_type": "code",
     "checksum": "08a8d3bdd88112438918f0cbea4aee63",
     "grade": false,
     "grade_id": "cell-80ad200896e60892",
     "locked": true,
     "schema_version": 3,
     "solution": false,
     "task": false
    }
   },
   "outputs": [],
   "source": [
    "import numpy as np\n",
    "import pandas as pd\n",
    "import scipy as sp\n",
    "import matplotlib as mpl\n",
    "import matplotlib.pyplot as plt\n",
    "import seaborn as sns\n",
    "import geopandas as gpd\n",
    "import contextily as cx"
   ]
  },
  {
   "cell_type": "code",
   "execution_count": null,
   "id": "897ce3fd-fa6f-43c2-8324-d3f51807d34f",
   "metadata": {},
   "outputs": [],
   "source": [
    "# Miejsce do importu pakietów wchodzących w skład standardowej biblioteki Pythona oraz ustawienie opcji wykorzystywanych pakietów"
   ]
  },
  {
   "cell_type": "markdown",
   "id": "857b687d-b256-4b9d-9b03-032be3a137ea",
   "metadata": {
    "deletable": false,
    "editable": false,
    "nbgrader": {
     "cell_type": "markdown",
     "checksum": "03adad89b9c7f8d1b24640a4c0af3e06",
     "grade": false,
     "grade_id": "cell-f5170a728b941ce1",
     "locked": true,
     "schema_version": 3,
     "solution": false,
     "task": false
    }
   },
   "source": [
    "### Wczytanie danych\n",
    "Poniższy kod wczytuje do zmiennych `rivers`, `cities`, `districts` oraz `voivodeships` dane z przygotowanego wcześniej pliku data.gpkg."
   ]
  },
  {
   "cell_type": "code",
   "execution_count": 1,
   "id": "026dd0b7-570e-4791-9f9f-b55b1733bb21",
   "metadata": {
    "deletable": false,
    "editable": false,
    "nbgrader": {
     "cell_type": "code",
     "checksum": "f99e2ae4245fb0164bb225d3e6dce4f7",
     "grade": false,
     "grade_id": "cell-09fe6a40352b55da",
     "locked": true,
     "schema_version": 3,
     "solution": false,
     "task": false
    }
   },
   "outputs": [
    {
     "ename": "NameError",
     "evalue": "name 'gpd' is not defined",
     "output_type": "error",
     "traceback": [
      "\u001b[31m---------------------------------------------------------------------------\u001b[39m",
      "\u001b[31mNameError\u001b[39m                                 Traceback (most recent call last)",
      "\u001b[36mCell\u001b[39m\u001b[36m \u001b[39m\u001b[32mIn[1]\u001b[39m\u001b[32m, line 1\u001b[39m\n\u001b[32m----> \u001b[39m\u001b[32m1\u001b[39m rivers = \u001b[43mgpd\u001b[49m.read_file(\u001b[33m\"\u001b[39m\u001b[33mdata.gpkg\u001b[39m\u001b[33m\"\u001b[39m, layer=\u001b[33m'\u001b[39m\u001b[33mrivers\u001b[39m\u001b[33m'\u001b[39m)\n\u001b[32m      2\u001b[39m cities = gpd.read_file(\u001b[33m\"\u001b[39m\u001b[33mdata.gpkg\u001b[39m\u001b[33m\"\u001b[39m, layer=\u001b[33m'\u001b[39m\u001b[33mcities\u001b[39m\u001b[33m'\u001b[39m)\n\u001b[32m      3\u001b[39m districts = gpd.read_file(\u001b[33m\"\u001b[39m\u001b[33mdata.gpkg\u001b[39m\u001b[33m\"\u001b[39m, layer=\u001b[33m'\u001b[39m\u001b[33mdistricts\u001b[39m\u001b[33m'\u001b[39m)\n",
      "\u001b[31mNameError\u001b[39m: name 'gpd' is not defined"
     ]
    }
   ],
   "source": [
    "rivers = gpd.read_file(\"data.gpkg\", layer='rivers')\n",
    "cities = gpd.read_file(\"data.gpkg\", layer='cities')\n",
    "districts = gpd.read_file(\"data.gpkg\", layer='districts')\n",
    "voivodeships = gpd.read_file(\"data.gpkg\", layer='voivodeships')"
   ]
  },
  {
   "cell_type": "markdown",
   "id": "011b4386-28bb-494b-a919-f344af680a5f",
   "metadata": {
    "deletable": false,
    "editable": false,
    "nbgrader": {
     "cell_type": "markdown",
     "checksum": "e0dc98df534afb583e2239ed111b1932",
     "grade": false,
     "grade_id": "cell-9dc390183478c24a",
     "locked": true,
     "schema_version": 3,
     "solution": false,
     "task": false
    },
    "tags": []
   },
   "source": [
    "### Zadanie 4: Wykorzystanie prostych operacji geometrycznych (12 pkt)\n",
    "\n",
    "#### a) Miasta blisko Wisły\n",
    "\n",
    "Korzystając z funkcji `geopandas.GeoSeries.buffer()` oraz `geopandas.GeoSeries.within()` sprawdź, które miasta leżą bliżej niż 20 km od Wisły oraz:\n",
    " - zapisz wyniki do tablicy `cities` w kolumnie o nazwie \"Blisko Wisły\" (True/False),\n",
    " - oblicz ile miast leży bliżej niż 20 km od Wisły i zapisz wynik do zmiennej `cities_close_to_vistula`,\n",
    " - korzystając z funkcji `print()` wyświetl odpowiedź na pytanie (pełnym zdaniem) ile miast leży bliżej niż 20 km od Wisły,\n",
    " - przygotuj wizualiację, na której oznaczony zostanie obszar znajdujący się bliżej niż 20 km od Wisły, a znajdujące się w tym obszarze miasta będą wyróżnione kolorem względem pozostałych miast.\n",
    "\n",
    "Wizualizacja powinna zawierać:\n",
    "- województwa, wypełnione jednolitym kolorem,\n",
    "- miasta, w jednym z dwóch wybranych kolorów w zależności od spełnienia analizowanego kryterium.\n",
    "- rzeki wypełnione jednolitym kolorem,\n",
    "- oznaczenie terenu leżącego nie dalej niż 20 km od Wisły.\n",
    "\n",
    "Ustaw parametry wykresu oraz wizualizowanych obiektów (wielkość figury, kolory, grubość linii, wielkość punktów itp.) tak aby wygenerowana mapa była przejrzysta i czytelna."
   ]
  },
  {
   "cell_type": "code",
   "execution_count": null,
   "id": "bf1abbae-de79-49a0-bdcc-7db3e3c5f649",
   "metadata": {
    "deletable": false,
    "nbgrader": {
     "cell_type": "code",
     "checksum": "ab30a1122324b86dec36e1314703ab2e",
     "grade": false,
     "grade_id": "cell-02e093a857861332",
     "locked": false,
     "schema_version": 3,
     "solution": true,
     "task": false
    },
    "tags": []
   },
   "outputs": [],
   "source": [
    "# Obliczenia\n",
    "# YOUR CODE HERE\n",
    "raise NotImplementedError()"
   ]
  },
  {
   "cell_type": "code",
   "execution_count": null,
   "id": "7581832b-edef-4dd3-b0ed-101368991b76",
   "metadata": {
    "deletable": false,
    "editable": false,
    "nbgrader": {
     "cell_type": "code",
     "checksum": "5d9f1d8015dd003a94510e1f6bdcf3cd",
     "grade": true,
     "grade_id": "cell-b1ad6f1be0de19b9",
     "locked": true,
     "points": 2,
     "schema_version": 3,
     "solution": false,
     "task": false
    },
    "tags": []
   },
   "outputs": [],
   "source": [
    "# Komórka testowa\n",
    "assert cities_close_to_vistula == 148"
   ]
  },
  {
   "cell_type": "code",
   "execution_count": null,
   "id": "cedafe34-cfc8-4979-910f-e3473fbba8e0",
   "metadata": {
    "deletable": false,
    "nbgrader": {
     "cell_type": "code",
     "checksum": "4d00c0972b1d424c78006853893c90ae",
     "grade": true,
     "grade_id": "cell-1d944ce0b7080e86",
     "locked": false,
     "points": 2,
     "schema_version": 3,
     "solution": true,
     "task": false
    },
    "tags": []
   },
   "outputs": [],
   "source": [
    "# Wizualizacja\n",
    "# YOUR CODE HERE\n",
    "raise NotImplementedError()"
   ]
  },
  {
   "cell_type": "markdown",
   "id": "393decbe-555b-40b9-9fb9-d97bfc35d89d",
   "metadata": {
    "deletable": false,
    "editable": false,
    "nbgrader": {
     "cell_type": "markdown",
     "checksum": "0344ccb50871c397e5fc835e33339e89",
     "grade": false,
     "grade_id": "cell-0c43a9294f4b9bbb",
     "locked": true,
     "schema_version": 3,
     "solution": false,
     "task": false
    },
    "tags": []
   },
   "source": [
    "#### b) Województwa, przez które przepływa Odra\n",
    "Korzystając z funkcji `geopandas.GeoSeries.intersects()` sprawdź, przez które województwa przepływa Odra oraz:\n",
    " - zapisz wyniki do tablicy `voivodeships` w kolumnie o nazwie \"Odra w obrębie\" (True/False) oraz do zmiennej `voivodeships_with_oder` (lista województw, przez które przepływa Odra),\n",
    " - korzystając z funkcji `print()` wyświetl odpowiedź na pytanie (pełnym zdaniem) przez które województa przepływa Odra,\n",
    " - przygotuj wizualiację, na której województwa przez które przepływa Odra będą wyróżnione kolorem względem pozostałych województw.\n",
    "\n",
    "Wizualizacja powinna zawierać:\n",
    "- województwa, wypełnione jednym z dwóch wybranych kolorów w zależności od spełnienia analizowanego kryterium,\n",
    "- miasta, wypełnione jednolitym kolorem,\n",
    "- rzeki wypełnione jednolitym kolorem.\n",
    "\n",
    "Ustaw parametry wykresu oraz wizualizowanych obiektów (wielkość figury, kolory, grubość linii, wielkość punktów itp.) tak aby wygenerowana mapa była przejrzysta i czytelna."
   ]
  },
  {
   "cell_type": "code",
   "execution_count": null,
   "id": "0714c168-e7c9-49df-936a-c42b9ecd4a46",
   "metadata": {
    "deletable": false,
    "nbgrader": {
     "cell_type": "code",
     "checksum": "a0d44d63f1c402327149c5b879e79929",
     "grade": false,
     "grade_id": "cell-07caea011ad0dfd6",
     "locked": false,
     "schema_version": 3,
     "solution": true,
     "task": false
    },
    "tags": []
   },
   "outputs": [],
   "source": [
    "# Obliczenia\n",
    "# YOUR CODE HERE\n",
    "raise NotImplementedError()"
   ]
  },
  {
   "cell_type": "code",
   "execution_count": null,
   "id": "2d76e3b5-807f-4c24-877d-21404ca1bf92",
   "metadata": {
    "deletable": false,
    "editable": false,
    "nbgrader": {
     "cell_type": "code",
     "checksum": "a33a1beb9118bde3df5bd8b85feefde3",
     "grade": true,
     "grade_id": "cell-0e6fb598a6c4608f",
     "locked": true,
     "points": 2,
     "schema_version": 3,
     "solution": false,
     "task": false
    },
    "tags": []
   },
   "outputs": [],
   "source": [
    "# Komórka testowa\n",
    "assert sorted(voivodeships_with_oder) == ['dolnośląskie', 'lubuskie', 'opolskie', 'zachodniopomorskie', 'śląskie']"
   ]
  },
  {
   "cell_type": "code",
   "execution_count": null,
   "id": "268455d9-f536-4135-9a18-4657366248d8",
   "metadata": {
    "deletable": false,
    "nbgrader": {
     "cell_type": "code",
     "checksum": "d1f2837e982a322acf6a1350ca1bc37f",
     "grade": true,
     "grade_id": "cell-bc1504ffa6bf53aa",
     "locked": false,
     "points": 2,
     "schema_version": 3,
     "solution": true,
     "task": false
    },
    "tags": []
   },
   "outputs": [],
   "source": [
    "# Wizualizacja\n",
    "# YOUR CODE HERE\n",
    "raise NotImplementedError()"
   ]
  },
  {
   "cell_type": "markdown",
   "id": "c9db9e9e-cba2-4d65-a5ed-4856d05c052a",
   "metadata": {
    "deletable": false,
    "editable": false,
    "nbgrader": {
     "cell_type": "markdown",
     "checksum": "9ed04a74cfd1dee7a1f742f548419aa2",
     "grade": false,
     "grade_id": "cell-49e1b55c0f15b86d",
     "locked": true,
     "schema_version": 3,
     "solution": false,
     "task": false
    }
   },
   "source": [
    "#### c) Liczba miast w powiatach\n",
    "\n",
    "Korzystając z funkcji `geopandas.sjoin()` oraz odpowiednich funkcji pakietu pandas policz ile miast znajduje się w poszczególnych powiatach oraz:\n",
    " - zapisz wyniki do tablicy `districts` w kolumnie o nazwie \"Liczba miast\",\n",
    " - przygotuj wizualiację, na której kolor przypisany powiatom jest powiązany z liczbą miast leżących w ich obrębie.\n",
    "\n",
    "Wizualizacja powinna zawierać:\n",
    "- powiaty, wypełnione kolorem powiązanym z liczbą miast leżących w ich obrębie (ciągła skala kolorów),\n",
    "\n",
    "Ustaw parametry wykresu oraz wizualizowanych obiektów (wielkość figury, kolory, grubość linii, wielkość punktów itp.) tak aby wygenerowana mapa była przejrzysta i czytelna."
   ]
  },
  {
   "cell_type": "code",
   "execution_count": null,
   "id": "9c5118e5-5b81-4ef2-8d34-cb5763532518",
   "metadata": {
    "deletable": false,
    "nbgrader": {
     "cell_type": "code",
     "checksum": "db507cad8949d394ddde8e9fa9f96083",
     "grade": false,
     "grade_id": "cell-78a15c2967671381",
     "locked": false,
     "schema_version": 3,
     "solution": true,
     "task": false
    }
   },
   "outputs": [],
   "source": [
    "# YOUR CODE HERE\n",
    "raise NotImplementedError()"
   ]
  },
  {
   "cell_type": "code",
   "execution_count": null,
   "id": "103fe244-2fef-4b7a-a4f5-35745ddf368e",
   "metadata": {
    "deletable": false,
    "editable": false,
    "nbgrader": {
     "cell_type": "code",
     "checksum": "906688d927f3e960ad158b19ae65923a",
     "grade": true,
     "grade_id": "cell-46d71b1ed9b6f6f5",
     "locked": true,
     "points": 3,
     "schema_version": 3,
     "solution": false,
     "task": false
    }
   },
   "outputs": [],
   "source": [
    "# Komórka testowa\n",
    "assert type(districts) == gpd.geodataframe.GeoDataFrame\n",
    "assert districts.shape == (380, 3)\n",
    "assert set(list(districts.columns)) == set(['Nazwa', 'geometry', 'Liczba miast'])\n",
    "assert districts.crs == \"epsg:2180\"\n",
    "\n",
    "assert districts.loc[districts[\"Nazwa\"]==\"kłodzki\", \"Liczba miast\"].values[0] == 11\n",
    "assert districts.loc[districts[\"Nazwa\"]==\"białostocki\", \"Liczba miast\"].values[0] == 9\n",
    "assert districts.loc[districts[\"Nazwa\"]==\"suwalski\", \"Liczba miast\"].values[0] == 0"
   ]
  },
  {
   "cell_type": "code",
   "execution_count": null,
   "id": "753ec9bc-44eb-4ce7-9d55-6d6994a937cf",
   "metadata": {
    "deletable": false,
    "nbgrader": {
     "cell_type": "code",
     "checksum": "1dd8a42823845b9163c484bc0a0b2379",
     "grade": true,
     "grade_id": "cell-0488e02163b0b604",
     "locked": false,
     "points": 1,
     "schema_version": 3,
     "solution": true,
     "task": false
    }
   },
   "outputs": [],
   "source": [
    "# Wizualizacja\n",
    "# YOUR CODE HERE\n",
    "raise NotImplementedError()"
   ]
  },
  {
   "cell_type": "markdown",
   "id": "64b1feb3-db75-4b4d-bc32-6b0f3a77e732",
   "metadata": {
    "deletable": false,
    "editable": false,
    "nbgrader": {
     "cell_type": "markdown",
     "checksum": "d42e67f1e5129f538af58f77916b2b27",
     "grade": false,
     "grade_id": "cell-c9e86d1819ddc2b3",
     "locked": true,
     "schema_version": 3,
     "solution": false,
     "task": false
    }
   },
   "source": [
    "### Zadanie 5: Wizualizacje z wykorzystaniem map podkładowych (5 pkt)\n",
    "\n",
    "#### a) Wizualizacja z mapą w tle\n",
    "\n",
    "Korzystając z funkcji pakietu matplotlib, funkcji `geopandas.GeoDataFrame.plot()` oraz funkcji `contextily.add_basemap()` przygotuj figurę, na której półprzeźroczyste poligony województw będą nałożone na wybraną (i inną niż domyślna) mapę topograficzną. Wybierz dokładność mapy topograficznej tak, żeby nie była rozpikselowana, ale jednocześnie nie wczytywała się nadmiernie długo.\n",
    "\n",
    "Ustaw parametry wykresu oraz wizualizowanych obiektów (wielkość figury, kolory, grubość linii, wielkość punktów itp.) tak aby wygenerowana mapa była przejrzysta i czytelna."
   ]
  },
  {
   "cell_type": "code",
   "execution_count": null,
   "id": "3b43b108-7154-4894-b301-087bbb64ed88",
   "metadata": {
    "deletable": false,
    "nbgrader": {
     "cell_type": "code",
     "checksum": "475156c58081ed27e570b2a99bd6b46b",
     "grade": true,
     "grade_id": "cell-4a193c1016e7de1e",
     "locked": false,
     "points": 2,
     "schema_version": 3,
     "solution": true,
     "task": false
    }
   },
   "outputs": [],
   "source": [
    "# YOUR CODE HERE\n",
    "raise NotImplementedError()"
   ]
  },
  {
   "cell_type": "markdown",
   "id": "d4d34ff1-572b-451b-a655-a60908e423e0",
   "metadata": {
    "deletable": false,
    "editable": false,
    "nbgrader": {
     "cell_type": "markdown",
     "checksum": "ebccb327f3d50b46fe4ea3b4a58ee51c",
     "grade": false,
     "grade_id": "cell-d5b59df77686eb91",
     "locked": true,
     "schema_version": 3,
     "solution": false,
     "task": false
    }
   },
   "source": [
    "#### b) Interaktywna wizualizacja\n",
    "\n",
    "Korzystając z funkcji `geopandas.GeoDataFrame.explore()` wykonaj interaktywną mapę, taką że:\n",
    " - kolor województw jest związany z ich powierzchnią,\n",
    " - po najechaniu myszką na obszar województwa wyświetla się jego nazwa,\n",
    " - po kliknięciu na obszar województwa wyświetla się lista 4 informacji związanych z produkcją i zużyciem energii na terenie danego województwa,\n",
    " - w tle znajduje się samodzielnie wybrana (inna od domyślnej) mapa."
   ]
  },
  {
   "cell_type": "code",
   "execution_count": null,
   "id": "7f2ec3e8-b58c-4248-9f66-3c020bb57b34",
   "metadata": {
    "deletable": false,
    "nbgrader": {
     "cell_type": "code",
     "checksum": "0466ff17451ac0e97b007602fa3fa912",
     "grade": true,
     "grade_id": "cell-d78fa36fb203e3e2",
     "locked": false,
     "points": 3,
     "schema_version": 3,
     "solution": true,
     "task": false
    }
   },
   "outputs": [],
   "source": [
    "# YOUR CODE HERE\n",
    "raise NotImplementedError()"
   ]
  }
 ],
 "metadata": {
  "kernelspec": {
   "display_name": "Python 3",
   "language": "python",
   "name": "python3"
  },
  "language_info": {
   "codemirror_mode": {
    "name": "ipython",
    "version": 3
   },
   "file_extension": ".py",
   "mimetype": "text/x-python",
   "name": "python",
   "nbconvert_exporter": "python",
   "pygments_lexer": "ipython3",
   "version": "3.13.3"
  }
 },
 "nbformat": 4,
 "nbformat_minor": 5
}
