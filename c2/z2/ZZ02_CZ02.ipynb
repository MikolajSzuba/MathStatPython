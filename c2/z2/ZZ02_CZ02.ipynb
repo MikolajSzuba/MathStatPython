{
 "cells": [
  {
   "cell_type": "markdown",
   "id": "0432d573",
   "metadata": {
    "deletable": false,
    "editable": false,
    "nbgrader": {
     "cell_type": "markdown",
     "checksum": "74aa63f2e4d352c067353490d74b5258",
     "grade": false,
     "grade_id": "cell-fcd2666579131b77",
     "locked": true,
     "schema_version": 3,
     "solution": false,
     "task": false
    },
    "tags": []
   },
   "source": [
    "# Analiza danych w języku Python - ćwiczenia laboratoryjne 2024/2025\n",
    "\n",
    "Ten notatnik zalicza się do grupy zestawów zadań, na podstawie których odbywa się zaliczenie ćwiczeń i podlega zwrotowi do oceny w ustalonym na zajęciach terminie.\n",
    "\n",
    "Uwagi i wytyczne ogólne dotyczące uzupełniania i oceny notatnika:\n",
    "- Podczas wykonywania zadań należy korzystać wyłącznie z pakietów zaimportowanych na początku notatnika oraz z pakietów wchodzących w skład standardowej biblioteki Pythona, które można zaimportować samodzielnie we wskazanej komórce notatnika. Wyjątek stanowi ostatni z projektów, gdzie po konsultacji z prowadzącym zajęcia możliwa jest większa swoboda w doborze pakietów.\n",
    "- Swoje rozwiązania należy wprowadzać wyłącznie w miejce następujących fragmentów kodu:<br/> `# YOUR CODE HERE`<br/> `raise NotImplementedError()`<br/> \n",
    "a odpowiedzi tekstowe w komórkach oznaczonych hasłem:<br/> \n",
    "`YOUR ANSWER HERE`<br/> \n",
    "Nie należy w żaden sposób modyfikować pozostałych fragmentów kodu oraz innych elementów notatnika, w szczególności dodawać lub usuwać komórek oraz zmieniać nazwy pliku.\n",
    "- Jeżeli zestaw zadań wymaga skorzystania z fragmentów kodu opracowanego w ramach wcześniejszych zestawów zadań należy je umieścić we wskazanej komórce notatnika.\n",
    "- Otrzymywane wyniki i odpowiedzi mają być rezultatem wykonania napisanego kodu, odpowiedzi uzupełniane manualnie nie podlegają ocenie.\n",
    "- Zawarte w notatniku automatyczne testy mają charakter poglądowy. Dotyczą one wybranych aspektów zadań i mają na celu wyłapać podstawowe błędy. Przejście przez kod wszystkich testów nie oznacza, że zadanie jest wykonane w całości poprawnie i zostanie ocenione na maksymalną liczbę punktów.\n",
    "- Zadania należy wykonać w taki sposób, aby podczas wykonywania kodu nie zostały wyświetlone żadne ostrzeżenia.\n",
    "- Zadania, które powodują wyświetlenie komunikatu o błędzie przerywającym wykonywanie kodu nie podlegają ocenie.\n",
    "\n",
    "Uwagi i wytyczne ogólne dotyczące wizualizacji wyników:\n",
    "- Wszystkie wykresy powinny być wykonane w jednolitym, przejrzystym i czytelnym stylu, posiadać odpowiednio dobrane proporcje i zakresy wartości osi.\n",
    "- Figury powinny mieć ustawione białe tło, tak, aby niezależnie od ustawień notatnika wszystkie elementy wykresów były dobrze widoczne (domyślnie tło jest przeźroczyste co może powodować problemy w notatnikach z ustawionym ciemnym tłem). Rozmiar poziomy figur nie powinien przekraczać 20 cali.\n",
    "- Wykresy oraz ich osie powinny mieć nadane tytuły. Jeżeli w obrębie figury znajduje się więcej niż jeden wykres to figura również powinna mieć nadany tytuł.\n",
    "\n",
    "Przed odesłaniem zestawu zadań do oceny proszę uzupełnić komórkę z danymi autorów rozwiązania (nazwa zespołu oraz imiona, nazwiska i numery indeksów członków zespołu) oraz upewnić się, że notatnik działa zgodnie z oczekiwaniami. W tym celu należy skorzystać z opcji **Restart Kernel and Run All Cells...** dostępnej na górnej belce notatnika pod symbolem $\\blacktriangleright\\blacktriangleright$."
   ]
  },
  {
   "cell_type": "markdown",
   "id": "53216213",
   "metadata": {},
   "source": [
    "Nazwa zespołu:\n",
    "Członkowie:"
   ]
  },
  {
   "cell_type": "markdown",
   "id": "aab57cc1",
   "metadata": {
    "deletable": false,
    "editable": false,
    "nbgrader": {
     "cell_type": "markdown",
     "checksum": "eddc8826810e4a6f7bf68319da334bd9",
     "grade": false,
     "grade_id": "cell-109006d425e5cf83",
     "locked": true,
     "schema_version": 3,
     "solution": false,
     "task": false
    },
    "tags": []
   },
   "source": [
    "---"
   ]
  },
  {
   "cell_type": "markdown",
   "id": "3dc8b5f1-8b22-4781-876f-27826679533d",
   "metadata": {
    "deletable": false,
    "editable": false,
    "nbgrader": {
     "cell_type": "markdown",
     "checksum": "e3174993fa05de0b37d2b73fa8ae282c",
     "grade": false,
     "grade_id": "cell-a12f05a1065ccf65",
     "locked": true,
     "schema_version": 3,
     "solution": false,
     "task": false
    },
    "tags": []
   },
   "source": [
    "## Zestaw zadań 2: Zmiany GDP w okresie globalnego kryzysu finansowego 2008–2009 (Notatnik 2/3)"
   ]
  },
  {
   "cell_type": "code",
   "id": "7f9968ab-aec5-4893-b0ad-34121d66004f",
   "metadata": {
    "deletable": false,
    "editable": false,
    "nbgrader": {
     "cell_type": "code",
     "checksum": "d6674a728779d571c7935a6e29b9a2a6",
     "grade": false,
     "grade_id": "cell-d7c9c710c5b409e6",
     "locked": true,
     "schema_version": 3,
     "solution": false,
     "task": false
    },
    "tags": [],
    "ExecuteTime": {
     "end_time": "2025-04-09T16:24:15.400253Z",
     "start_time": "2025-04-09T16:24:15.397936Z"
    }
   },
   "source": [
    "import numpy as np\n",
    "import pandas as pd\n",
    "import scipy as sp\n",
    "import matplotlib as mpl\n",
    "import matplotlib.pyplot as plt\n",
    "import seaborn as sns"
   ],
   "outputs": [],
   "execution_count": 2
  },
  {
   "cell_type": "code",
   "id": "2876bbec-f433-4b3e-8187-0184b66bcbe9",
   "metadata": {
    "tags": [],
    "ExecuteTime": {
     "end_time": "2025-04-09T16:24:22.093918Z",
     "start_time": "2025-04-09T16:24:22.091391Z"
    }
   },
   "source": [
    "# Miejsce do importu pakietów wchodzących w skład standardowej biblioteki Pythona oraz ustawienie opcji wykorzystywanych pakietów"
   ],
   "outputs": [],
   "execution_count": 3
  },
  {
   "cell_type": "markdown",
   "id": "73cb2852-79f3-4f76-9303-a091a9be7623",
   "metadata": {
    "deletable": false,
    "editable": false,
    "nbgrader": {
     "cell_type": "markdown",
     "checksum": "b4408e3f1e335787cb03951fad44f8bb",
     "grade": false,
     "grade_id": "cell-7e0c91af7d9408af",
     "locked": true,
     "schema_version": 3,
     "solution": false,
     "task": false
    },
    "tags": []
   },
   "source": [
    "### Wczytanie danych\n",
    "Poniższy kod wczytuje do zmiennej `recession_data_1` dane z przygotowanego wcześniej pliku recession_data_1.pkl."
   ]
  },
  {
   "cell_type": "code",
   "id": "bb86cffa-4841-45db-b09e-06fb353a4250",
   "metadata": {
    "deletable": false,
    "editable": false,
    "nbgrader": {
     "cell_type": "code",
     "checksum": "b9d122cdc85517c3caeaaa267cadbe16",
     "grade": false,
     "grade_id": "cell-184ec13f50fb3bfe",
     "locked": true,
     "schema_version": 3,
     "solution": false,
     "task": false
    },
    "tags": [],
    "ExecuteTime": {
     "end_time": "2025-04-09T16:31:59.605460Z",
     "start_time": "2025-04-09T16:31:59.594812Z"
    }
   },
   "source": [
    "recession_data_1 = pd.read_pickle(\"recession_data_1.pkl\")\n",
    "recession_data_1.info()"
   ],
   "outputs": [
    {
     "name": "stdout",
     "output_type": "stream",
     "text": [
      "<class 'pandas.core.frame.DataFrame'>\n",
      "Index: 198 entries, DZA to TON\n",
      "Data columns (total 9 columns):\n",
      " #   Column        Non-Null Count  Dtype  \n",
      "---  ------        --------------  -----  \n",
      " 0   Country Name  198 non-null    object \n",
      " 1   Region Name   198 non-null    object \n",
      " 2   2006          198 non-null    float64\n",
      " 3   2007          198 non-null    float64\n",
      " 4   2008          198 non-null    float64\n",
      " 5   2009          198 non-null    float64\n",
      " 6   2010          198 non-null    float64\n",
      " 7   2011          198 non-null    float64\n",
      " 8   Income Group  198 non-null    object \n",
      "dtypes: float64(6), object(3)\n",
      "memory usage: 15.5+ KB\n"
     ]
    }
   ],
   "execution_count": 10
  },
  {
   "cell_type": "markdown",
   "id": "fdaccd00-7a75-4926-b051-96470de901e2",
   "metadata": {
    "deletable": false,
    "editable": false,
    "nbgrader": {
     "cell_type": "markdown",
     "checksum": "857389f3ca10a7e95c76791332d2da0d",
     "grade": false,
     "grade_id": "cell-e01d8f2049de027d",
     "locked": true,
     "schema_version": 3,
     "solution": false,
     "task": false
    },
    "tags": []
   },
   "source": [
    "### Zadnie 2: Prezentacja danych w formie tabelarycznej [10 pkt]\n",
    "\n",
    "Przygotuj trzy tablice szeregów rodzielczych przedziałowych częstości wskaźnika GDP growth (annual %) dla poszczególnych lat.\n",
    "\n",
    "Wyświetl przygotowane tablice w taki sposób aby zawarte w tablicy liczby (za wyjątkiem lat i granic przedziałów w nagłówkach kolumn i wierszy) wyświetlały się z dokładnością do 2 miejsca po przecinku.\n",
    "\n",
    "#### a) Całość danych\n",
    "Pierwsza tablica (`recession_table_1`) powinna zawierać szeregi skonstruowane w obarciu o całość danych.\n",
    "\n",
    " > Indeks: Year </br>\n",
    " > Wszystkie lata, dla których zostały wyznaczone wartości parametru GDP growth (annual %)\n",
    " \n",
    " > Kolumny: (-20, -15],\t(-15, -10], ... , (30, 35] </br>\n",
    " > Kolejne przedziały wartości zdefiniowane jako `pandas.IntervalIndex`"
   ]
  },
  {
   "cell_type": "code",
   "id": "5dbbfa05-68d5-4972-a455-922d77d8a1bd",
   "metadata": {
    "deletable": false,
    "nbgrader": {
     "cell_type": "code",
     "checksum": "78108821dc37afad2c7f2b86cf9d2516",
     "grade": false,
     "grade_id": "cell-0b76c13943ac3c6b",
     "locked": false,
     "schema_version": 3,
     "solution": true,
     "task": false
    },
    "tags": [],
    "ExecuteTime": {
     "end_time": "2025-04-09T16:43:23.449183Z",
     "start_time": "2025-04-09T16:43:23.437682Z"
    }
   },
   "source": [
    "\n",
    "bins = pd.interval_range(start=-20, end=35, freq=5, closed='right')\n",
    "recession_table_1 = recession_data_1.melt(\n",
    "\n",
    "    value_vars=[str(y) for y in range(2006, 2012)],\n",
    "    var_name=\"Year\",\n",
    "    value_name=\"GDP_growth\"\n",
    ")\n",
    "recession_table_1.set_index(\"Year\", inplace=True)\n",
    "recession_table_1[\"GDP_bin\"] = pd.cut(recession_table_1[\"GDP_growth\"], bins=bins)\n",
    "recession_table_1 = recession_table_1.groupby([\"Year\", \"GDP_bin\"]).size().unstack(fill_value=0)\n",
    "\n"
   ],
   "outputs": [
    {
     "name": "stderr",
     "output_type": "stream",
     "text": [
      "C:\\Users\\mikol\\AppData\\Local\\Temp\\ipykernel_23208\\243123898.py:10: FutureWarning: The default of observed=False is deprecated and will be changed to True in a future version of pandas. Pass observed=False to retain current behavior or observed=True to adopt the future default and silence this warning.\n",
      "  recession_table_1 = recession_table_1.groupby([\"Year\", \"GDP_bin\"]).size().unstack(fill_value=0)\n"
     ]
    }
   ],
   "execution_count": 26
  },
  {
   "cell_type": "code",
   "id": "a63991a7-d6a3-4053-abd7-b70573cc022c",
   "metadata": {
    "deletable": false,
    "editable": false,
    "nbgrader": {
     "cell_type": "code",
     "checksum": "b493e9a155045ee59e49b29bf9ab6a71",
     "grade": true,
     "grade_id": "cell-c0f2d9bb2b8ec0de",
     "locked": true,
     "points": 2,
     "schema_version": 3,
     "solution": false,
     "task": false
    },
    "tags": [],
    "ExecuteTime": {
     "end_time": "2025-04-09T16:43:25.025392Z",
     "start_time": "2025-04-09T16:43:25.012050Z"
    }
   },
   "source": [
    "### Komórka testowa\n",
    "# Kolumny\n",
    "lower_boundaries = np.arange(-20, 35, 5)\n",
    "for i in range(len(lower_boundaries)):\n",
    "    assert recession_table_1.columns[i] == pd.Interval(lower_boundaries[i], lower_boundaries[i]+5, closed='right')\n",
    "# Indeks\n",
    "assert recession_table_1.index.name == \"Year\"\n",
    "assert len(set(list(recession_table_1.index)) & set([2006, 2007, 2008, 2009, 2010, 2011])) == 6 \\\n",
    "    or len(set(list(recession_table_1.index)) & set(['2006', '2007', '2008', '2009', '2010', '2011'])) == 6\n",
    "# Wartości w obrębie tablicy\n",
    "assert recession_table_1.values.min() >= 0.0\n",
    "assert recession_table_1.values.max() <= 1.0\n",
    "assert np.all(np.isclose(np.array(recession_table_1.sum(axis=1).values, dtype=float), 1))"
   ],
   "outputs": [
    {
     "ename": "AssertionError",
     "evalue": "",
     "output_type": "error",
     "traceback": [
      "\u001B[1;31m---------------------------------------------------------------------------\u001B[0m",
      "\u001B[1;31mAssertionError\u001B[0m                            Traceback (most recent call last)",
      "Cell \u001B[1;32mIn[27], line 12\u001B[0m\n\u001B[0;32m     10\u001B[0m \u001B[38;5;66;03m# Wartości w obrębie tablicy\u001B[39;00m\n\u001B[0;32m     11\u001B[0m \u001B[38;5;28;01massert\u001B[39;00m recession_table_1\u001B[38;5;241m.\u001B[39mvalues\u001B[38;5;241m.\u001B[39mmin() \u001B[38;5;241m>\u001B[39m\u001B[38;5;241m=\u001B[39m \u001B[38;5;241m0.0\u001B[39m\n\u001B[1;32m---> 12\u001B[0m \u001B[38;5;28;01massert\u001B[39;00m recession_table_1\u001B[38;5;241m.\u001B[39mvalues\u001B[38;5;241m.\u001B[39mmax() \u001B[38;5;241m<\u001B[39m\u001B[38;5;241m=\u001B[39m \u001B[38;5;241m1.0\u001B[39m\n\u001B[0;32m     13\u001B[0m \u001B[38;5;28;01massert\u001B[39;00m np\u001B[38;5;241m.\u001B[39mall(np\u001B[38;5;241m.\u001B[39misclose(np\u001B[38;5;241m.\u001B[39marray(recession_table_1\u001B[38;5;241m.\u001B[39msum(axis\u001B[38;5;241m=\u001B[39m\u001B[38;5;241m1\u001B[39m)\u001B[38;5;241m.\u001B[39mvalues, dtype\u001B[38;5;241m=\u001B[39m\u001B[38;5;28mfloat\u001B[39m), \u001B[38;5;241m1\u001B[39m))\n",
      "\u001B[1;31mAssertionError\u001B[0m: "
     ]
    }
   ],
   "execution_count": 27
  },
  {
   "cell_type": "markdown",
   "id": "318c1d83-1b23-47c4-ad8f-0a09cb1d2598",
   "metadata": {
    "deletable": false,
    "editable": false,
    "nbgrader": {
     "cell_type": "markdown",
     "checksum": "dca468f717bc74682bfe89eb3e000fff",
     "grade": false,
     "grade_id": "cell-b7f18e8da3966255",
     "locked": true,
     "schema_version": 3,
     "solution": false,
     "task": false
    },
    "tags": []
   },
   "source": [
    "#### b) Podział na regiony geograficzne\n",
    "Druga tablica (`recession_table_2`) powinna zawierać szeregi skonstruowane indywidualnie dla każdego z rejonów geograficznych.\n",
    "\n",
    " > Indeks: 2-poziomowe nagłówki </br>\n",
    "\n",
    " >> Nagłówki 1 poziomu: Region Name </br>\n",
    " >> Nazwy regionów geograficznych\n",
    "\n",
    " >> Nagłówki 2 poziomu: Year </br>\n",
    " >> Wszystkie lata, dla których zostały wyznaczone wartości parametru GDP growth (annual %) powtórzone dla każdego z rejonów\n",
    "\n",
    " > Kolumny: (-20, -15],\t(-15, -10], ... , (30, 35] </br>\n",
    " > Kolejne przedziały wartości zdefiniowane jako `pandas.IntervalIndex`"
   ]
  },
  {
   "cell_type": "code",
   "execution_count": null,
   "id": "cff294d3-d46a-4edd-aa04-aa6e434e347d",
   "metadata": {
    "deletable": false,
    "nbgrader": {
     "cell_type": "code",
     "checksum": "2c280be2695e6f1250380860f2d75885",
     "grade": false,
     "grade_id": "cell-9a1b92247ccba7a2",
     "locked": false,
     "schema_version": 3,
     "solution": true,
     "task": false
    },
    "tags": []
   },
   "outputs": [],
   "source": [
    "# YOUR CODE HERE\n",
    "raise NotImplementedError()"
   ]
  },
  {
   "cell_type": "code",
   "execution_count": null,
   "id": "4ca0308c-e459-4bb4-84df-a4ce20bda288",
   "metadata": {
    "deletable": false,
    "editable": false,
    "nbgrader": {
     "cell_type": "code",
     "checksum": "62c81123b8cfff6058251168aee342ae",
     "grade": true,
     "grade_id": "cell-1efdceba7f7ce80d",
     "locked": true,
     "points": 4,
     "schema_version": 3,
     "solution": false,
     "task": false
    },
    "tags": []
   },
   "outputs": [],
   "source": [
    "# Komórka testowa\n",
    "# Kolumny\n",
    "lower_boundaries = np.arange(-20, 35, 5)\n",
    "for i in range(len(lower_boundaries)):\n",
    "    assert recession_table_2.columns[i] == pd.Interval(lower_boundaries[i], lower_boundaries[i]+5, closed='right')\n",
    "# Indeks\n",
    "assert recession_table_2.index.names == ['Region Name', 'Year']\n",
    "assert set(list(recession_table_2.index.levels[0])) == set(['Africa', 'Americas', 'Asia', 'Europe', 'Oceania'])\n",
    "set(list(recession_table_2.index.levels[1]))\n",
    "assert set(list(recession_table_2.index.levels[1])) == set([2006, 2007, 2008, 2009, 2010, 2011]) \\\n",
    "    or set(list(recession_table_2.index.levels[1])) == set(['2006', '2007', '2008', '2009', '2010', '2011'])\n",
    "# # Wartości w obrębie tablicy\n",
    "assert recession_table_2.values.min() >= 0.0\n",
    "assert recession_table_2.values.max() <= 1.0\n",
    "assert np.all(np.isclose(np.array(recession_table_2.sum(axis=1).values, dtype=float), 1))"
   ]
  },
  {
   "cell_type": "markdown",
   "id": "dacb0f5a-8457-406f-99d5-d28250d45562",
   "metadata": {
    "deletable": false,
    "editable": false,
    "nbgrader": {
     "cell_type": "markdown",
     "checksum": "4ffc824591570f3ea0c5dc6494441608",
     "grade": false,
     "grade_id": "cell-99134c8b584b4c27",
     "locked": true,
     "schema_version": 3,
     "solution": false,
     "task": false
    },
    "tags": []
   },
   "source": [
    "#### c) Podział na stopnie zamożności\n",
    "\n",
    "Trzecia tablica (`recession_table_3`) powinna zawierać szeregi skonstruowane indywidualnie dla każdego stopnia zamożności.\n",
    "\n",
    " > Indeks: 2-poziomowe nagłówki </br>\n",
    "\n",
    " >> Nagłówki 1 poziomu: Income Group </br>\n",
    " >> Nazwy klas ekonomicznych\n",
    "\n",
    " >> Nagłówki 2 poziomu: Year </br>\n",
    " >> Wszystkie lata, dla których zostały wyznaczone wartości parametru GDP growth (annual %) powtórzone dla każdej z grup ekonomicznych\n",
    "\n",
    " > Kolumny: (-20, -15],\t(-15, -10], ... , (30, 35] </br>\n",
    " > Kolejne przedziały wartości zdefiniowane jako `pandas.IntervalIndex`"
   ]
  },
  {
   "cell_type": "code",
   "execution_count": null,
   "id": "290e8cf0-17cb-4395-9924-774478436446",
   "metadata": {
    "deletable": false,
    "nbgrader": {
     "cell_type": "code",
     "checksum": "f362b26bdea75310939d03b00a75f075",
     "grade": false,
     "grade_id": "cell-a931928e53b6f707",
     "locked": false,
     "schema_version": 3,
     "solution": true,
     "task": false
    },
    "tags": []
   },
   "outputs": [],
   "source": [
    "# YOUR CODE HERE\n",
    "raise NotImplementedError()"
   ]
  },
  {
   "cell_type": "code",
   "execution_count": null,
   "id": "02a670a2-8817-43bf-b380-e9b47c007b21",
   "metadata": {
    "deletable": false,
    "editable": false,
    "nbgrader": {
     "cell_type": "code",
     "checksum": "d2ff03bba28d5201c9f433dad690a1e1",
     "grade": true,
     "grade_id": "cell-c759195a85d2912b",
     "locked": true,
     "points": 4,
     "schema_version": 3,
     "solution": false,
     "task": false
    },
    "tags": []
   },
   "outputs": [],
   "source": [
    "# Komórka testowa\n",
    "# Kolumny\n",
    "lower_boundaries = np.arange(-20, 35, 5)\n",
    "for i in range(len(lower_boundaries)):\n",
    "    assert recession_table_3.columns[i] == pd.Interval(lower_boundaries[i], lower_boundaries[i]+5, closed='right')\n",
    "# Indeks\n",
    "assert recession_table_3.index.names == ['Income Group', 'Year']\n",
    "assert set(list(recession_table_3.index.levels[0])) == set(['High', 'Low', 'Lower middle', 'Upper middle'])\n",
    "assert set(list(recession_table_3.index.levels[1])) == set([2006, 2007, 2008, 2009, 2010, 2011]) \\\n",
    "    or set(list(recession_table_3.index.levels[1])) == set(['2006', '2007', '2008', '2009', '2010', '2011'])\n",
    "# Wartości w obrębie tablicy\n",
    "assert recession_table_3.values.min() >= 0.0\n",
    "assert recession_table_3.values.max() <= 1.0\n",
    "assert np.all(np.isclose(np.array(recession_table_3.sum(axis=1).values, dtype=float), 1))"
   ]
  },
  {
   "cell_type": "markdown",
   "id": "c163957b-46f6-4339-8078-1805d4b78600",
   "metadata": {
    "deletable": false,
    "editable": false,
    "nbgrader": {
     "cell_type": "markdown",
     "checksum": "40a4b7b4a6c6addc5a8c0dc9bce4ef89",
     "grade": false,
     "grade_id": "cell-a370a3f8277883da",
     "locked": true,
     "schema_version": 3,
     "solution": false,
     "task": false
    },
    "tags": []
   },
   "source": [
    "### Zadanie 3: Prezentacja danych w formie graficznej [25 pkt]"
   ]
  },
  {
   "cell_type": "markdown",
   "id": "1c002900-b2f4-4066-9951-ed4b286514a5",
   "metadata": {
    "deletable": false,
    "editable": false,
    "nbgrader": {
     "cell_type": "markdown",
     "checksum": "a2eae16ec20b67803b813e79e0051558",
     "grade": false,
     "grade_id": "cell-7825486f2cd68a32",
     "locked": true,
     "schema_version": 3,
     "solution": false,
     "task": false
    },
    "tags": []
   },
   "source": [
    "#### a) Diagramy częstości\n",
    "\n",
    "Bazując na wczytanych do notatnika danych przygotuj diagramy częstości odpowiadające danym zawartym w przygotowanych wcześniej tabelach (podział na identyczne przedziały, skonstruowane w oparciu o całość danych oraz indywidualnie dla każdego z rejonów geograficznych i dla każdego stopnia zamożności, osobne diagramy dla poszczególnych lat). \n",
    "\n",
    "Zestaw wyniki na pojedynczej figurze (siatka wykresów 2x5). W górnym wierszu zawrzyj diagram skonstruowany w oparciu o całość danych oraz cztery diagramy skonstruowane indywidualnie dla poszczególnych stopni zamożności, a w dolnym wierszu pięć dziagramów skonstruowanych indywidualnie dla poszczególnych rejonów geograficznych). Przygotuj figurę zgodnie z wytycznymi z nagłówka notatnika. Dodatkowo:\n",
    "- ustaw identyczne zakresy wartości na odpowiadających sobie osiach wszystkich wykresów,\n",
    "- ustaw różne od domyślnych i od siebie nawzajem kolory diagramów poszczególnych lat (kolory przyporządkowane poszczególnym latom powinny być identyczne na wszystkich wykresach),\n",
    "- dodaj do figury lub wykresów legendę zawierającą nazwę wizualizowanego parametru oraz kolory przypisane poszczególnym latom w taki sposób, aby nie zasłaniała/zasłaniały znajdujących się na wykresach danych.\n",
    "\n",
    "Uwaga! Zadanie należy wykonać w oparciu o wczytane do notatnika szeregi szczegółowe, a nie w oparciu o szeregi rozdzielcze częstości przygotowane w zadaniu 2."
   ]
  },
  {
   "cell_type": "code",
   "execution_count": null,
   "id": "077e6e36-e05f-4b55-acf4-6e781ce9095d",
   "metadata": {
    "deletable": false,
    "nbgrader": {
     "cell_type": "code",
     "checksum": "d167ba21d8a4e1d8f4a077f0a61da4c1",
     "grade": true,
     "grade_id": "cell-20f667f95ac4349e",
     "locked": false,
     "points": 8,
     "schema_version": 3,
     "solution": true,
     "task": false
    },
    "tags": []
   },
   "outputs": [],
   "source": [
    "# YOUR CODE HERE\n",
    "raise NotImplementedError()"
   ]
  },
  {
   "cell_type": "markdown",
   "id": "095e028d-fc68-4c4f-af05-cb2368cf8a87",
   "metadata": {
    "deletable": false,
    "editable": false,
    "nbgrader": {
     "cell_type": "markdown",
     "checksum": "e1b0db21f7c9dc92a9e6ce5f14b9a7f7",
     "grade": false,
     "grade_id": "cell-f62fe7c574f73939",
     "locked": true,
     "schema_version": 3,
     "solution": false,
     "task": false
    },
    "tags": []
   },
   "source": [
    "#### b) Inne typy wykresów\n",
    "Bazując na wczytanych do notatnika danych przygotuj wykresy typu boxplot, violinplot, swarmplot i stripplot.\n",
    "\n",
    "W przypadku każdego z typów wykresów zestaw wyniki na pojedynczej figurze (siatka wykresów 3x1). W górnym wierszu zawszyj wykres skonstruowany w oparciu o całość danych, w wierszu środkowym wykres zawierajacy podział na poszczególne stopnie zamożności, a w wierszu dolnym wykres zawierajacy podział na poszczególne rejony geograficzne. Przygotuj figurę zgodnie z wytycznymi z nagłówka notatnika. Dodatkowo:\n",
    "- ustaw identyczne zakresy wartości na odpowiadających sobie osiach wszystkich wykresów,\n",
    "- na górnych wykresach dla całości danych użyj pojedynczego koloru jako wypełnienia,\n",
    "- dla stopni zamożności ustaw jako wypełnienie skalę kolorów coolwarm,\n",
    "- poszczególnym rejonom geograficznym przypisz jasne/wypłowiałe wersje kolorów przypisanych im na fladze olimpijskiej (Afryka szary, Europa jasnoniebieski itd.),\n",
    "- w przypadku wykresów swarmplot i stripplot dobierz ich parametry tak by chmury punktów powiązanych z opisanymi w legendzie wariantami parametrów były rozdzielone,\n",
    "- do dwóch dolnych wykresów dodaj legendę zawierającą nazwę wizualizowanego parametru oraz kolory przypisane poszczególnym rejonom geograficznym/stopniom zamożności w taki sposób, aby nie zasłaniała znajdujących się na wykresach danych.\n",
    "\n",
    "Wykresy pudełkowe powinny zawierać oznaczenia wartości średniej, mediany oraz wartości odstających.\n",
    "\n",
    "Uwaga! Zadanie należy wykonać w oparciu o wczytane do notatnika szeregi szczegółowe, a nie w oparciu o szeregi rozdzielcze częstości przygotowane w zadaniu 2."
   ]
  },
  {
   "cell_type": "code",
   "execution_count": null,
   "id": "a7594c74-c087-427b-a28f-75dbc6c15b10",
   "metadata": {
    "deletable": false,
    "nbgrader": {
     "cell_type": "code",
     "checksum": "992e01322a7809f3b1ca9a6351a7218d",
     "grade": true,
     "grade_id": "cell-ae4385a252fa931d",
     "locked": false,
     "points": 3,
     "schema_version": 3,
     "solution": true,
     "task": false
    },
    "tags": []
   },
   "outputs": [],
   "source": [
    "# Boxplot\n",
    "# YOUR CODE HERE\n",
    "raise NotImplementedError()"
   ]
  },
  {
   "cell_type": "code",
   "execution_count": null,
   "id": "6684a75b-4c3c-4254-98ef-a52b0f371afc",
   "metadata": {
    "deletable": false,
    "nbgrader": {
     "cell_type": "code",
     "checksum": "25fb3357c3fac03d01f579eb91eb4094",
     "grade": true,
     "grade_id": "cell-bf9c7c83e4f80572",
     "locked": false,
     "points": 3,
     "schema_version": 3,
     "solution": true,
     "task": false
    },
    "tags": []
   },
   "outputs": [],
   "source": [
    "# Violinplot\n",
    "# YOUR CODE HERE\n",
    "raise NotImplementedError()"
   ]
  },
  {
   "cell_type": "code",
   "execution_count": null,
   "id": "e2538aec-a9dc-453b-a68c-fe13bf7f827d",
   "metadata": {
    "deletable": false,
    "nbgrader": {
     "cell_type": "code",
     "checksum": "600b26a2d4c85a407f2cbfb827817b46",
     "grade": true,
     "grade_id": "cell-55f5e27c0761428a",
     "locked": false,
     "points": 3,
     "schema_version": 3,
     "solution": true,
     "task": false
    },
    "tags": []
   },
   "outputs": [],
   "source": [
    "# Swarmplot\n",
    "# YOUR CODE HERE\n",
    "raise NotImplementedError()"
   ]
  },
  {
   "cell_type": "code",
   "execution_count": null,
   "id": "ac6d162f-274b-4c2a-8d9b-9750047a9769",
   "metadata": {
    "deletable": false,
    "nbgrader": {
     "cell_type": "code",
     "checksum": "90d71432f9f67c6773970aa6546ba885",
     "grade": true,
     "grade_id": "cell-ede6fce5fff8ebdd",
     "locked": false,
     "points": 3,
     "schema_version": 3,
     "solution": true,
     "task": false
    },
    "tags": []
   },
   "outputs": [],
   "source": [
    "# Stripplot\n",
    "# YOUR CODE HERE\n",
    "raise NotImplementedError()"
   ]
  },
  {
   "cell_type": "markdown",
   "id": "d8c6cb9b-31b4-434a-9312-5868da5ce39c",
   "metadata": {
    "deletable": false,
    "editable": false,
    "nbgrader": {
     "cell_type": "markdown",
     "checksum": "47e826d87cc9f842650d0b5039901480",
     "grade": false,
     "grade_id": "cell-76b8c9cf7fea8bfa",
     "locked": true,
     "schema_version": 3,
     "solution": false,
     "task": false
    },
    "tags": []
   },
   "source": [
    "#### c) Dyskusja wyników\n",
    "\n",
    "Zastanów się jakie są mocne i słabe strony poszczególnych typów wykresów wykonanych w tym zadaniu. W jakich przypadkach wykorzystanie konkretnych typów wykresów do wizualizacji może sprawiać problemy?"
   ]
  },
  {
   "cell_type": "markdown",
   "id": "4163cec7-9656-4524-95e1-4f7e792450ad",
   "metadata": {
    "deletable": false,
    "nbgrader": {
     "cell_type": "markdown",
     "checksum": "d9cbcb3159d74160cd67fa81c2198236",
     "grade": true,
     "grade_id": "cell-343f7f2b58b388ba",
     "locked": false,
     "points": 5,
     "schema_version": 3,
     "solution": true,
     "task": false
    },
    "tags": []
   },
   "source": [
    "YOUR ANSWER HERE"
   ]
  }
 ],
 "metadata": {
  "kernelspec": {
   "display_name": "Python 3 (ipykernel)",
   "language": "python",
   "name": "python3"
  },
  "language_info": {
   "codemirror_mode": {
    "name": "ipython",
    "version": 3
   },
   "file_extension": ".py",
   "mimetype": "text/x-python",
   "name": "python",
   "nbconvert_exporter": "python",
   "pygments_lexer": "ipython3",
   "version": "3.10.11"
  }
 },
 "nbformat": 4,
 "nbformat_minor": 5
}
