{
 "cells": [
  {
   "cell_type": "markdown",
   "id": "b0e4cdb5",
   "metadata": {
    "deletable": false,
    "editable": false,
    "nbgrader": {
     "cell_type": "markdown",
     "checksum": "74aa63f2e4d352c067353490d74b5258",
     "grade": false,
     "grade_id": "cell-fcd2666579131b77",
     "locked": true,
     "schema_version": 3,
     "solution": false,
     "task": false
    },
    "tags": []
   },
   "source": [
    "# Analiza danych w języku Python - ćwiczenia laboratoryjne 2024/2025\n",
    "\n",
    "Ten notatnik zalicza się do grupy zestawów zadań, na podstawie których odbywa się zaliczenie ćwiczeń i podlega zwrotowi do oceny w ustalonym na zajęciach terminie.\n",
    "\n",
    "Uwagi i wytyczne ogólne dotyczące uzupełniania i oceny notatnika:\n",
    "- Podczas wykonywania zadań należy korzystać wyłącznie z pakietów zaimportowanych na początku notatnika oraz z pakietów wchodzących w skład standardowej biblioteki Pythona, które można zaimportować samodzielnie we wskazanej komórce notatnika. Wyjątek stanowi ostatni z projektów, gdzie po konsultacji z prowadzącym zajęcia możliwa jest większa swoboda w doborze pakietów.\n",
    "- Swoje rozwiązania należy wprowadzać wyłącznie w miejce następujących fragmentów kodu:<br/> `# YOUR CODE HERE`<br/> `raise NotImplementedError()`<br/> \n",
    "a odpowiedzi tekstowe w komórkach oznaczonych hasłem:<br/> \n",
    "`YOUR ANSWER HERE`<br/> \n",
    "Nie należy w żaden sposób modyfikować pozostałych fragmentów kodu oraz innych elementów notatnika, w szczególności dodawać lub usuwać komórek oraz zmieniać nazwy pliku.\n",
    "- Jeżeli zestaw zadań wymaga skorzystania z fragmentów kodu opracowanego w ramach wcześniejszych zestawów zadań należy je umieścić we wskazanej komórce notatnika.\n",
    "- Otrzymywane wyniki i odpowiedzi mają być rezultatem wykonania napisanego kodu, odpowiedzi uzupełniane manualnie nie podlegają ocenie.\n",
    "- Zawarte w notatniku automatyczne testy mają charakter poglądowy. Dotyczą one wybranych aspektów zadań i mają na celu wyłapać podstawowe błędy. Przejście przez kod wszystkich testów nie oznacza, że zadanie jest wykonane w całości poprawnie i zostanie ocenione na maksymalną liczbę punktów.\n",
    "- Zadania należy wykonać w taki sposób, aby podczas wykonywania kodu nie zostały wyświetlone żadne ostrzeżenia.\n",
    "- Zadania, które powodują wyświetlenie komunikatu o błędzie przerywającym wykonywanie kodu nie podlegają ocenie.\n",
    "\n",
    "Uwagi i wytyczne ogólne dotyczące wizualizacji wyników:\n",
    "- Wszystkie wykresy powinny być wykonane w jednolitym, przejrzystym i czytelnym stylu, posiadać odpowiednio dobrane proporcje i zakresy wartości osi.\n",
    "- Figury powinny mieć ustawione białe tło, tak, aby niezależnie od ustawień notatnika wszystkie elementy wykresów były dobrze widoczne (domyślnie tło jest przeźroczyste co może powodować problemy w notatnikach z ustawionym ciemnym tłem). Rozmiar poziomy figur nie powinien przekraczać 20 cali.\n",
    "- Wykresy oraz ich osie powinny mieć nadane tytuły. Jeżeli w obrębie figury znajduje się więcej niż jeden wykres to figura również powinna mieć nadany tytuł.\n",
    "\n",
    "Przed odesłaniem zestawu zadań do oceny proszę uzupełnić komórkę z danymi autorów rozwiązania (nazwa zespołu oraz imiona, nazwiska i numery indeksów członków zespołu) oraz upewnić się, że notatnik działa zgodnie z oczekiwaniami. W tym celu należy skorzystać z opcji **Restart Kernel and Run All Cells...** dostępnej na górnej belce notatnika pod symbolem $\\blacktriangleright\\blacktriangleright$."
   ]
  },
  {
   "cell_type": "markdown",
   "id": "42835609",
   "metadata": {},
   "source": [
    "Nazwa zespołu:\n",
    "Członkowie:"
   ]
  },
  {
   "cell_type": "markdown",
   "id": "021c4a96",
   "metadata": {
    "deletable": false,
    "editable": false,
    "nbgrader": {
     "cell_type": "markdown",
     "checksum": "eddc8826810e4a6f7bf68319da334bd9",
     "grade": false,
     "grade_id": "cell-109006d425e5cf83",
     "locked": true,
     "schema_version": 3,
     "solution": false,
     "task": false
    },
    "tags": []
   },
   "source": [
    "---"
   ]
  },
  {
   "cell_type": "markdown",
   "id": "fe74743f-1998-4812-ac65-974bd8469d8d",
   "metadata": {
    "deletable": false,
    "editable": false,
    "nbgrader": {
     "cell_type": "markdown",
     "checksum": "8ccc3f5d9bbc4f0cf47f3d7c015a87ea",
     "grade": false,
     "grade_id": "cell-21ac76da9323c36f",
     "locked": true,
     "schema_version": 3,
     "solution": false,
     "task": false
    },
    "tags": []
   },
   "source": [
    "## Zestaw zadań 2: Zmiany GDP w okresie globalnego kryzysu finansowego 2008–2009 (Notatnik 1/3)"
   ]
  },
  {
   "cell_type": "code",
   "execution_count": 1,
   "id": "7f9968ab-aec5-4893-b0ad-34121d66004f",
   "metadata": {
    "deletable": false,
    "editable": false,
    "nbgrader": {
     "cell_type": "code",
     "checksum": "20798ed090b7142168484e8e89c74ddf",
     "grade": false,
     "grade_id": "cell-4a5af93ac80c2e34",
     "locked": true,
     "schema_version": 3,
     "solution": false,
     "task": false
    },
    "tags": []
   },
   "outputs": [],
   "source": [
    "import numpy as np\n",
    "import pandas as pd\n",
    "import scipy as sp\n",
    "import matplotlib as mpl\n",
    "import matplotlib.pyplot as plt\n",
    "import seaborn as sns"
   ]
  },
  {
   "cell_type": "code",
   "execution_count": 39,
   "id": "c444ab45-1fe7-4008-8c3c-2b1b526a1fbc",
   "metadata": {},
   "outputs": [],
   "source": [
    "import re"
   ]
  },
  {
   "cell_type": "markdown",
   "id": "3e77dfbb-90cf-463e-b9a7-62e85b221474",
   "metadata": {
    "deletable": false,
    "editable": false,
    "nbgrader": {
     "cell_type": "markdown",
     "checksum": "97550e9d063ed5ed52512b5bd4c877d2",
     "grade": false,
     "grade_id": "cell-8251a8dc1dba0354",
     "locked": true,
     "schema_version": 3,
     "solution": false,
     "task": false
    },
    "tags": []
   },
   "source": [
    "### Zadanie 1: Przygotowanie danych [10 pkt]\n",
    "\n",
    "Pliki raw_data_1.csv, raw_data_2.csv i raw_data_3.xlsx zawierają dane pobrane ze stron:</br>\n",
    "https://databank.worldbank.org/,</br>\n",
    "https://unstats.un.org/UNSDWebsite/,</br>\n",
    "https://datahelpdesk.worldbank.org/knowledgebase/articles/906519-world-bank-country-and-lending-groups.\n",
    "\n",
    "Zaimportuj zawarte w plikach dane do notatnika i utwórz na ich podstawie tablicę `recession_data_1` wykonaną według następujących wytycznych:\n",
    "\n",
    "- Tablica powinna zawierać wyłącznie następujące elementy:</br>\n",
    "\n",
    "    > Indeks: Country Code</br>\n",
    "       \n",
    "    > Kolumny: Country Name, Region Name, Income Group, 2006, 2007, 2008, 2009, 2010, 2011 (w tej kolejności, lata w nagłówkach jako zmienne typu str)</br>\n",
    "    \n",
    "- Wiersze powinny być indeksowane trzyliterowymi kodami krajów.\n",
    "- Kolumna Income Group zawiera informację o stopniu zamożności państwa wg danych z 2008 roku.\n",
    "- Kolumny 2006-2011 zawierają wartości wskaźnika GDP growth (annual %) dla poszczególnych lat.\n",
    "- Zmień występujące w kolumnie Income Category kody (H, UM, LM, L) na pełne wyrażenia (High, Upper middle, Lower middle, Low).\n",
    "- Tablica nie powinna zawierać wierszy, w których znajdują się wartości NaN (w dowolnej kolumnie) oraz wiersza dotyczącego Libii.\n",
    "\n",
    "Zapisz tablicę do pliku recession_data_1.pkl.\n",
    "\n",
    "Wyświetl przygotowaną tablicę w taki sposób aby widoczne było po 5 pierwszych i ostatnich wierszy, a zawarte w tablicy liczby (za wyjątkiem lat w nagłówkach kolumn) wyświetlały się z dokładnością do 2 miejsca po przecinku."
   ]
  },
  {
   "cell_type": "code",
   "execution_count": 95,
   "id": "a1a3f1e9-3392-41a0-a73d-167b235303dd",
   "metadata": {
    "deletable": false,
    "nbgrader": {
     "cell_type": "code",
     "checksum": "69701381bad47b312d4a37590f131714",
     "grade": false,
     "grade_id": "cell-aa85199b5cb633d2",
     "locked": false,
     "schema_version": 3,
     "solution": true,
     "task": false
    },
    "tags": []
   },
   "outputs": [
    {
     "name": "stdout",
     "output_type": "stream",
     "text": [
      "<class 'pandas.core.frame.DataFrame'>\n",
      "Index: 253 entries, DZA to WLF\n",
      "Data columns (total 79 columns):\n",
      " #   Column                                   Non-Null Count  Dtype  \n",
      "---  ------                                   --------------  -----  \n",
      " 0   Global Code                              253 non-null    int64  \n",
      " 1   Global Name                              253 non-null    object \n",
      " 2   Region Code                              252 non-null    float64\n",
      " 3   Region Name                              252 non-null    object \n",
      " 4   Sub-region Code                          252 non-null    float64\n",
      " 5   Sub-region Name                          252 non-null    object \n",
      " 6   Intermediate Region Code                 112 non-null    float64\n",
      " 7   Intermediate Region Name                 112 non-null    object \n",
      " 8   Country or Area                          253 non-null    object \n",
      " 9   M49 Code                                 253 non-null    int64  \n",
      " 10  ISO-alpha2 Code                          247 non-null    object \n",
      " 11  Least Developed Countries (LDC)          46 non-null     object \n",
      " 12  Land Locked Developing Countries (LLDC)  32 non-null     object \n",
      " 13  Small Island Developing States (SIDS)    53 non-null     object \n",
      " 14  Series Name                              217 non-null    object \n",
      " 15  Series Code                              215 non-null    object \n",
      " 16  Country Name                             215 non-null    object \n",
      " 17  1960 [YR1960]                            0 non-null      object \n",
      " 18  1961 [YR1961]                            92 non-null     object \n",
      " 19  1962 [YR1962]                            96 non-null     object \n",
      " 20  1963 [YR1963]                            96 non-null     object \n",
      " 21  1964 [YR1964]                            96 non-null     object \n",
      " 22  1965 [YR1965]                            96 non-null     object \n",
      " 23  1966 [YR1966]                            102 non-null    object \n",
      " 24  1967 [YR1967]                            105 non-null    object \n",
      " 25  1968 [YR1968]                            106 non-null    float64\n",
      " 26  1969 [YR1969]                            108 non-null    float64\n",
      " 27  1970 [YR1970]                            105 non-null    float64\n",
      " 28  1971 [YR1971]                            116 non-null    float64\n",
      " 29  1972 [YR1972]                            116 non-null    float64\n",
      " 30  1973 [YR1973]                            116 non-null    float64\n",
      " 31  1974 [YR1974]                            116 non-null    float64\n",
      " 32  1975 [YR1975]                            118 non-null    float64\n",
      " 33  1976 [YR1976]                            120 non-null    float64\n",
      " 34  1977 [YR1977]                            122 non-null    float64\n",
      " 35  1978 [YR1978]                            128 non-null    float64\n",
      " 36  1979 [YR1979]                            128 non-null    float64\n",
      " 37  1980 [YR1980]                            129 non-null    float64\n",
      " 38  1981 [YR1981]                            141 non-null    float64\n",
      " 39  1982 [YR1982]                            145 non-null    float64\n",
      " 40  1983 [YR1983]                            148 non-null    float64\n",
      " 41  1984 [YR1984]                            148 non-null    float64\n",
      " 42  1985 [YR1985]                            151 non-null    float64\n",
      " 43  1986 [YR1986]                            152 non-null    float64\n",
      " 44  1987 [YR1987]                            156 non-null    float64\n",
      " 45  1988 [YR1988]                            159 non-null    float64\n",
      " 46  1989 [YR1989]                            161 non-null    float64\n",
      " 47  1990 [YR1990]                            162 non-null    float64\n",
      " 48  1991 [YR1991]                            171 non-null    float64\n",
      " 49  1992 [YR1992]                            172 non-null    float64\n",
      " 50  1993 [YR1993]                            175 non-null    float64\n",
      " 51  1994 [YR1994]                            176 non-null    float64\n",
      " 52  1995 [YR1995]                            178 non-null    float64\n",
      " 53  1996 [YR1996]                            188 non-null    float64\n",
      " 54  1997 [YR1997]                            188 non-null    float64\n",
      " 55  1998 [YR1998]                            191 non-null    float64\n",
      " 56  1999 [YR1999]                            191 non-null    float64\n",
      " 57  2000 [YR2000]                            192 non-null    float64\n",
      " 58  2001 [YR2001]                            196 non-null    float64\n",
      " 59  2002 [YR2002]                            197 non-null    float64\n",
      " 60  2003 [YR2003]                            202 non-null    float64\n",
      " 61  2004 [YR2004]                            202 non-null    float64\n",
      " 62  2005 [YR2005]                            203 non-null    float64\n",
      " 63  2006 [YR2006]                            203 non-null    float64\n",
      " 64  2007 [YR2007]                            204 non-null    float64\n",
      " 65  2008 [YR2008]                            204 non-null    float64\n",
      " 66  2009 [YR2009]                            205 non-null    float64\n",
      " 67  2010 [YR2010]                            205 non-null    float64\n",
      " 68  2011 [YR2011]                            205 non-null    float64\n",
      " 69  2012 [YR2012]                            205 non-null    float64\n",
      " 70  2013 [YR2013]                            205 non-null    float64\n",
      " 71  2014 [YR2014]                            207 non-null    float64\n",
      " 72  2015 [YR2015]                            206 non-null    float64\n",
      " 73  2016 [YR2016]                            205 non-null    float64\n",
      " 74  2017 [YR2017]                            205 non-null    float64\n",
      " 75  2018 [YR2018]                            205 non-null    float64\n",
      " 76  2019 [YR2019]                            203 non-null    float64\n",
      " 77  2020 [YR2020]                            200 non-null    float64\n",
      " 78  2021 [YR2021]                            195 non-null    float64\n",
      "dtypes: float64(57), int64(2), object(20)\n",
      "memory usage: 158.1+ KB\n"
     ]
    }
   ],
   "source": [
    "df1=pd.read_csv(\"raw_data_1.csv\",index_col=\"Country Code\",na_values=\"..\")\n",
    "df2=pd.read_csv(\"raw_data_2.csv\",sep=\";\",index_col=\"ISO-alpha3 Code\")\n",
    "df3=pd.read_excel(\"raw_data_3.xlsx\",sheet_name=\"Country Analytical History\",skiprows=10,index_col=0,usecols=\"A,X\",na_values=\"..\")\n",
    "recession_data_1=df2.join(df1)\n",
    "recession_data_1.info()\n",
    "recession_data_1=recession_data_1[['Country Name','Region Name','2006 [YR2006]','2007 [YR2007]','2008 [YR2008]','2009 [YR2009]','2010 [YR2010]','2011 [YR2011]']]\n",
    "recession_data_1.columns = [re.sub(r'\\s*\\[.*?\\]', '', col) for col in recession_data_1.columns]\n",
    "recession_data_1=recession_data_1.join(df3)\n",
    "#recession_data_1.drop(\"Libya\")\n",
    "recession_data_1=recession_data_1.rename(columns={\"Unnamed: 23\":\"Income Group\"})\n",
    "recession_data_1=recession_data_1.dropna()\n",
    "recession_data_1=recession_data_1.replace({\"H\":\"High\",\"UM\":\"Upper middle\",\"LM\":\"Lower middle\",\"L\":\"Low\"})\n",
    "recession_data_1 = recession_data_1[recession_data_1['Country Name'] != 'Libya']\n",
    "recession_data_1.index.names=[\"Country Code\"]\n",
    "recession_data_1.to_pickle(\"recession_data_1.pkl\")\n"
   ]
  },
  {
   "cell_type": "code",
   "execution_count": 94,
   "id": "e39740a0-38f2-4b64-83f3-28b3c612b28c",
   "metadata": {
    "deletable": false,
    "editable": false,
    "nbgrader": {
     "cell_type": "code",
     "checksum": "1bdf4a3c2a76fd40f00dabef30e7c3de",
     "grade": true,
     "grade_id": "cell-683b0a3c6c74d0c6",
     "locked": true,
     "points": 10,
     "schema_version": 3,
     "solution": false,
     "task": false
    },
    "tags": []
   },
   "outputs": [],
   "source": [
    "### Komórka testowa\n",
    "# Test 1 Kształt tablicy\n",
    "assert recession_data_1.shape == (198, 9)\n",
    "# Test 2 Kolumny\n",
    "assert len(set(list(recession_data_1.columns)) & set(['Country Name', 'Region Name', 'Income Group', '2006', '2007', '2008', '2009', '2010', '2011'])) == 9\n",
    "# Test 3 Indeks\n",
    "assert (recession_data_1.index.name == 'Country Code') == True\n",
    "assert recession_data_1.index.values.min() == 'ABW'\n",
    "assert recession_data_1.index.values.max() == 'ZWE'\n",
    "assert np.all(recession_data_1.index.values != 'LBY') == True\n",
    "# Test 4 Zawartość kolumn tekstowych\n",
    "assert np.all([set(recession_data_1[\"Region Name\"].unique()) == set(['Asia', 'Europe', 'Africa', 'Oceania', 'Americas'])])\n",
    "assert np.all([recession_data_1[\"Region Name\"].value_counts().values == [50, 49, 43, 40, 16]])\n",
    "assert np.all([set(recession_data_1[\"Income Group\"].unique()) == set(['Low', 'Lower middle', 'Upper middle', 'High'])])\n",
    "assert np.all([recession_data_1[\"Income Group\"].value_counts().values == [60, 53, 44, 41]])\n",
    "# Test 5 Zawartość kolumn liczbowych\n",
    "assert np.all(np.isclose(recession_data_1[['2006', '2007', '2008', '2009', '2010', '2011']].min().values, np.array([ -6.87146322, -6.68402778, -17.66894633,\n",
    "                                                                                                                    -17.57322176, -8.92417589, -12.7148969 ]))) == True\n",
    "assert np.all(np.isclose(recession_data_1[['2006', '2007', '2008', '2009', '2010', '2011']].max().values, np.array([34.5 , 24.99999985, 17.79910913, 21.39052839,\n",
    "                                                                                                                    25.12275964, 21.61652888]))) == True"
   ]
  }
 ],
 "metadata": {
  "kernelspec": {
   "display_name": "Python 3 (ipykernel)",
   "language": "python",
   "name": "python3"
  },
  "language_info": {
   "codemirror_mode": {
    "name": "ipython",
    "version": 3
   },
   "file_extension": ".py",
   "mimetype": "text/x-python",
   "name": "python",
   "nbconvert_exporter": "python",
   "pygments_lexer": "ipython3",
   "version": "3.12.2"
  }
 },
 "nbformat": 4,
 "nbformat_minor": 5
}
